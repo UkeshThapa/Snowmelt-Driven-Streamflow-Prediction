{
  "nbformat": 4,
  "nbformat_minor": 0,
  "metadata": {
    "colab": {
      "provenance": [],
      "mount_file_id": "https://github.com/UkeshThapa/Snowmelt-Driven-Streamflow-Prediction/blob/main/snow_melting_research_work.ipynb",
      "authorship_tag": "ABX9TyNcZ0PKLBBa/NiFvlB3Qk+z",
      "include_colab_link": true
    },
    "kernelspec": {
      "name": "python3",
      "display_name": "Python 3"
    },
    "language_info": {
      "name": "python"
    }
  },
  "cells": [
    {
      "cell_type": "markdown",
      "metadata": {
        "id": "view-in-github",
        "colab_type": "text"
      },
      "source": [
        "<a href=\"https://colab.research.google.com/github/UkeshThapa/Snowmelt-Driven-Streamflow-Prediction/blob/main/snow_melting_research_work.ipynb\" target=\"_parent\"><img src=\"https://colab.research.google.com/assets/colab-badge.svg\" alt=\"Open In Colab\"/></a>"
      ]
    },
    {
      "cell_type": "markdown",
      "source": [
        "# **Snow Melting Prediction With LSTM, TCN and Transformer**"
      ],
      "metadata": {
        "id": "IKJOhv6CHsj6"
      }
    },
    {
      "cell_type": "markdown",
      "source": [
        "## install required library"
      ],
      "metadata": {
        "id": "QPM1boJrH9p7"
      }
    },
    {
      "cell_type": "code",
      "source": [
        "# !pip install -U keras-tuner\n",
        "# !pip install keras==2.12.0\n",
        "# !pip install keras-tcn"
      ],
      "metadata": {
        "id": "RtuPVjWByL3e"
      },
      "execution_count": 5,
      "outputs": []
    },
    {
      "cell_type": "markdown",
      "source": [
        "## import Library"
      ],
      "metadata": {
        "id": "ic7em_9QMNvG"
      }
    },
    {
      "cell_type": "code",
      "source": [
        "import numpy as np\n",
        "import pandas as pd\n",
        "import matplotlib.pyplot as plt\n",
        "\n",
        "# normalize the data\n",
        "from sklearn.preprocessing import StandardScaler\n",
        "\n",
        "# model library\n",
        "from tensorflow.keras.models import Sequential\n",
        "from sklearn.model_selection import train_test_split\n",
        "from tensorflow.keras.layers import LSTM, Dense, Dropout\n",
        "from tensorflow.keras.optimizers import SGD,RMSprop,Adam,Adadelta,Adagrad,Adamax,Nadam\n",
        "\n",
        "# hyperparameter tuner\n",
        "import keras_tuner as kt\n",
        "\n",
        "# loss\n",
        "from sklearn.metrics import mean_absolute_error, mean_squared_error, r2_score\n"
      ],
      "metadata": {
        "id": "Dc8nPmtVD2PG"
      },
      "execution_count": 22,
      "outputs": []
    },
    {
      "cell_type": "markdown",
      "source": [
        "## Load Dataset"
      ],
      "metadata": {
        "id": "ltc287CaMRj7"
      }
    },
    {
      "cell_type": "code",
      "source": [
        "\n",
        "# Load your dataset\n",
        "\n",
        "def load_dataset(path):\n",
        "    return pd.read_csv(path)\n",
        "\n",
        "\n",
        "file_path = \"/content/drive/MyDrive/Colab Notebooks/dataset/bigdata.csv\"\n",
        "df_snow_melting = load_dataset(file_path)\n",
        "\n",
        "df_snow_melting\n"
      ],
      "metadata": {
        "id": "ukusyw3KeM0o",
        "colab": {
          "base_uri": "https://localhost:8080/",
          "height": 423
        },
        "outputId": "c1216638-0cd6-429e-8d5d-9236a3c1fdc1"
      },
      "execution_count": 9,
      "outputs": [
        {
          "output_type": "execute_result",
          "data": {
            "text/plain": [
              "            Date     Q         SCA         T         P  Day  \\\n",
              "0       1/1/2001  2.69  345.815123 -4.169740  0.000000    1   \n",
              "1       1/2/2001  2.53  343.608727 -4.142604  0.000000    2   \n",
              "2       1/3/2001  2.53  341.437417 -5.148725  0.000000    3   \n",
              "3       1/4/2001  2.43  339.336277 -6.523695  0.031144    4   \n",
              "4       1/5/2001  2.53  337.340394 -6.860106  0.000000    5   \n",
              "...          ...   ...         ...       ...       ...  ...   \n",
              "4012  12/26/2012  2.91  228.615063 -5.651230  0.000000  361   \n",
              "4013  12/27/2012  2.91  219.264614 -5.501225  0.000000  362   \n",
              "4014  12/28/2012  3.03  210.043412 -5.526874  0.000000  363   \n",
              "4015  12/29/2012  2.97  201.080703 -5.107484  0.000000  364   \n",
              "4016  12/30/2012  2.91  192.505735 -5.012752  0.000000  365   \n",
              "\n",
              "      Relative Humidity  Wind speed  Wind direction  Snow depth  \n",
              "0                 60.49        3.18          220.08    0.000170  \n",
              "1                 53.93        1.86          210.97    0.000133  \n",
              "2                 42.20        1.49          239.45    0.000128  \n",
              "3                 40.48        1.91          249.20    0.000122  \n",
              "4                 27.34        2.14          334.61    0.000116  \n",
              "...                 ...         ...             ...         ...  \n",
              "4012              46.49        1.43          257.42    0.000466  \n",
              "4013              43.99        2.98          246.87    0.000437  \n",
              "4014              27.19        2.54          263.59    0.000410  \n",
              "4015              33.50        3.10          256.97    0.000379  \n",
              "4016              34.52        1.62          287.54    0.000354  \n",
              "\n",
              "[4017 rows x 10 columns]"
            ],
            "text/html": [
              "\n",
              "  <div id=\"df-a6272979-9d89-4e87-be6b-b0b1ac0a1107\" class=\"colab-df-container\">\n",
              "    <div>\n",
              "<style scoped>\n",
              "    .dataframe tbody tr th:only-of-type {\n",
              "        vertical-align: middle;\n",
              "    }\n",
              "\n",
              "    .dataframe tbody tr th {\n",
              "        vertical-align: top;\n",
              "    }\n",
              "\n",
              "    .dataframe thead th {\n",
              "        text-align: right;\n",
              "    }\n",
              "</style>\n",
              "<table border=\"1\" class=\"dataframe\">\n",
              "  <thead>\n",
              "    <tr style=\"text-align: right;\">\n",
              "      <th></th>\n",
              "      <th>Date</th>\n",
              "      <th>Q</th>\n",
              "      <th>SCA</th>\n",
              "      <th>T</th>\n",
              "      <th>P</th>\n",
              "      <th>Day</th>\n",
              "      <th>Relative Humidity</th>\n",
              "      <th>Wind speed</th>\n",
              "      <th>Wind direction</th>\n",
              "      <th>Snow depth</th>\n",
              "    </tr>\n",
              "  </thead>\n",
              "  <tbody>\n",
              "    <tr>\n",
              "      <th>0</th>\n",
              "      <td>1/1/2001</td>\n",
              "      <td>2.69</td>\n",
              "      <td>345.815123</td>\n",
              "      <td>-4.169740</td>\n",
              "      <td>0.000000</td>\n",
              "      <td>1</td>\n",
              "      <td>60.49</td>\n",
              "      <td>3.18</td>\n",
              "      <td>220.08</td>\n",
              "      <td>0.000170</td>\n",
              "    </tr>\n",
              "    <tr>\n",
              "      <th>1</th>\n",
              "      <td>1/2/2001</td>\n",
              "      <td>2.53</td>\n",
              "      <td>343.608727</td>\n",
              "      <td>-4.142604</td>\n",
              "      <td>0.000000</td>\n",
              "      <td>2</td>\n",
              "      <td>53.93</td>\n",
              "      <td>1.86</td>\n",
              "      <td>210.97</td>\n",
              "      <td>0.000133</td>\n",
              "    </tr>\n",
              "    <tr>\n",
              "      <th>2</th>\n",
              "      <td>1/3/2001</td>\n",
              "      <td>2.53</td>\n",
              "      <td>341.437417</td>\n",
              "      <td>-5.148725</td>\n",
              "      <td>0.000000</td>\n",
              "      <td>3</td>\n",
              "      <td>42.20</td>\n",
              "      <td>1.49</td>\n",
              "      <td>239.45</td>\n",
              "      <td>0.000128</td>\n",
              "    </tr>\n",
              "    <tr>\n",
              "      <th>3</th>\n",
              "      <td>1/4/2001</td>\n",
              "      <td>2.43</td>\n",
              "      <td>339.336277</td>\n",
              "      <td>-6.523695</td>\n",
              "      <td>0.031144</td>\n",
              "      <td>4</td>\n",
              "      <td>40.48</td>\n",
              "      <td>1.91</td>\n",
              "      <td>249.20</td>\n",
              "      <td>0.000122</td>\n",
              "    </tr>\n",
              "    <tr>\n",
              "      <th>4</th>\n",
              "      <td>1/5/2001</td>\n",
              "      <td>2.53</td>\n",
              "      <td>337.340394</td>\n",
              "      <td>-6.860106</td>\n",
              "      <td>0.000000</td>\n",
              "      <td>5</td>\n",
              "      <td>27.34</td>\n",
              "      <td>2.14</td>\n",
              "      <td>334.61</td>\n",
              "      <td>0.000116</td>\n",
              "    </tr>\n",
              "    <tr>\n",
              "      <th>...</th>\n",
              "      <td>...</td>\n",
              "      <td>...</td>\n",
              "      <td>...</td>\n",
              "      <td>...</td>\n",
              "      <td>...</td>\n",
              "      <td>...</td>\n",
              "      <td>...</td>\n",
              "      <td>...</td>\n",
              "      <td>...</td>\n",
              "      <td>...</td>\n",
              "    </tr>\n",
              "    <tr>\n",
              "      <th>4012</th>\n",
              "      <td>12/26/2012</td>\n",
              "      <td>2.91</td>\n",
              "      <td>228.615063</td>\n",
              "      <td>-5.651230</td>\n",
              "      <td>0.000000</td>\n",
              "      <td>361</td>\n",
              "      <td>46.49</td>\n",
              "      <td>1.43</td>\n",
              "      <td>257.42</td>\n",
              "      <td>0.000466</td>\n",
              "    </tr>\n",
              "    <tr>\n",
              "      <th>4013</th>\n",
              "      <td>12/27/2012</td>\n",
              "      <td>2.91</td>\n",
              "      <td>219.264614</td>\n",
              "      <td>-5.501225</td>\n",
              "      <td>0.000000</td>\n",
              "      <td>362</td>\n",
              "      <td>43.99</td>\n",
              "      <td>2.98</td>\n",
              "      <td>246.87</td>\n",
              "      <td>0.000437</td>\n",
              "    </tr>\n",
              "    <tr>\n",
              "      <th>4014</th>\n",
              "      <td>12/28/2012</td>\n",
              "      <td>3.03</td>\n",
              "      <td>210.043412</td>\n",
              "      <td>-5.526874</td>\n",
              "      <td>0.000000</td>\n",
              "      <td>363</td>\n",
              "      <td>27.19</td>\n",
              "      <td>2.54</td>\n",
              "      <td>263.59</td>\n",
              "      <td>0.000410</td>\n",
              "    </tr>\n",
              "    <tr>\n",
              "      <th>4015</th>\n",
              "      <td>12/29/2012</td>\n",
              "      <td>2.97</td>\n",
              "      <td>201.080703</td>\n",
              "      <td>-5.107484</td>\n",
              "      <td>0.000000</td>\n",
              "      <td>364</td>\n",
              "      <td>33.50</td>\n",
              "      <td>3.10</td>\n",
              "      <td>256.97</td>\n",
              "      <td>0.000379</td>\n",
              "    </tr>\n",
              "    <tr>\n",
              "      <th>4016</th>\n",
              "      <td>12/30/2012</td>\n",
              "      <td>2.91</td>\n",
              "      <td>192.505735</td>\n",
              "      <td>-5.012752</td>\n",
              "      <td>0.000000</td>\n",
              "      <td>365</td>\n",
              "      <td>34.52</td>\n",
              "      <td>1.62</td>\n",
              "      <td>287.54</td>\n",
              "      <td>0.000354</td>\n",
              "    </tr>\n",
              "  </tbody>\n",
              "</table>\n",
              "<p>4017 rows × 10 columns</p>\n",
              "</div>\n",
              "    <div class=\"colab-df-buttons\">\n",
              "\n",
              "  <div class=\"colab-df-container\">\n",
              "    <button class=\"colab-df-convert\" onclick=\"convertToInteractive('df-a6272979-9d89-4e87-be6b-b0b1ac0a1107')\"\n",
              "            title=\"Convert this dataframe to an interactive table.\"\n",
              "            style=\"display:none;\">\n",
              "\n",
              "  <svg xmlns=\"http://www.w3.org/2000/svg\" height=\"24px\" viewBox=\"0 -960 960 960\">\n",
              "    <path d=\"M120-120v-720h720v720H120Zm60-500h600v-160H180v160Zm220 220h160v-160H400v160Zm0 220h160v-160H400v160ZM180-400h160v-160H180v160Zm440 0h160v-160H620v160ZM180-180h160v-160H180v160Zm440 0h160v-160H620v160Z\"/>\n",
              "  </svg>\n",
              "    </button>\n",
              "\n",
              "  <style>\n",
              "    .colab-df-container {\n",
              "      display:flex;\n",
              "      gap: 12px;\n",
              "    }\n",
              "\n",
              "    .colab-df-convert {\n",
              "      background-color: #E8F0FE;\n",
              "      border: none;\n",
              "      border-radius: 50%;\n",
              "      cursor: pointer;\n",
              "      display: none;\n",
              "      fill: #1967D2;\n",
              "      height: 32px;\n",
              "      padding: 0 0 0 0;\n",
              "      width: 32px;\n",
              "    }\n",
              "\n",
              "    .colab-df-convert:hover {\n",
              "      background-color: #E2EBFA;\n",
              "      box-shadow: 0px 1px 2px rgba(60, 64, 67, 0.3), 0px 1px 3px 1px rgba(60, 64, 67, 0.15);\n",
              "      fill: #174EA6;\n",
              "    }\n",
              "\n",
              "    .colab-df-buttons div {\n",
              "      margin-bottom: 4px;\n",
              "    }\n",
              "\n",
              "    [theme=dark] .colab-df-convert {\n",
              "      background-color: #3B4455;\n",
              "      fill: #D2E3FC;\n",
              "    }\n",
              "\n",
              "    [theme=dark] .colab-df-convert:hover {\n",
              "      background-color: #434B5C;\n",
              "      box-shadow: 0px 1px 3px 1px rgba(0, 0, 0, 0.15);\n",
              "      filter: drop-shadow(0px 1px 2px rgba(0, 0, 0, 0.3));\n",
              "      fill: #FFFFFF;\n",
              "    }\n",
              "  </style>\n",
              "\n",
              "    <script>\n",
              "      const buttonEl =\n",
              "        document.querySelector('#df-a6272979-9d89-4e87-be6b-b0b1ac0a1107 button.colab-df-convert');\n",
              "      buttonEl.style.display =\n",
              "        google.colab.kernel.accessAllowed ? 'block' : 'none';\n",
              "\n",
              "      async function convertToInteractive(key) {\n",
              "        const element = document.querySelector('#df-a6272979-9d89-4e87-be6b-b0b1ac0a1107');\n",
              "        const dataTable =\n",
              "          await google.colab.kernel.invokeFunction('convertToInteractive',\n",
              "                                                    [key], {});\n",
              "        if (!dataTable) return;\n",
              "\n",
              "        const docLinkHtml = 'Like what you see? Visit the ' +\n",
              "          '<a target=\"_blank\" href=https://colab.research.google.com/notebooks/data_table.ipynb>data table notebook</a>'\n",
              "          + ' to learn more about interactive tables.';\n",
              "        element.innerHTML = '';\n",
              "        dataTable['output_type'] = 'display_data';\n",
              "        await google.colab.output.renderOutput(dataTable, element);\n",
              "        const docLink = document.createElement('div');\n",
              "        docLink.innerHTML = docLinkHtml;\n",
              "        element.appendChild(docLink);\n",
              "      }\n",
              "    </script>\n",
              "  </div>\n",
              "\n",
              "\n",
              "<div id=\"df-a1d4313e-d5f9-4fa5-9a4c-d800a3574663\">\n",
              "  <button class=\"colab-df-quickchart\" onclick=\"quickchart('df-a1d4313e-d5f9-4fa5-9a4c-d800a3574663')\"\n",
              "            title=\"Suggest charts.\"\n",
              "            style=\"display:none;\">\n",
              "\n",
              "<svg xmlns=\"http://www.w3.org/2000/svg\" height=\"24px\"viewBox=\"0 0 24 24\"\n",
              "     width=\"24px\">\n",
              "    <g>\n",
              "        <path d=\"M19 3H5c-1.1 0-2 .9-2 2v14c0 1.1.9 2 2 2h14c1.1 0 2-.9 2-2V5c0-1.1-.9-2-2-2zM9 17H7v-7h2v7zm4 0h-2V7h2v10zm4 0h-2v-4h2v4z\"/>\n",
              "    </g>\n",
              "</svg>\n",
              "  </button>\n",
              "\n",
              "<style>\n",
              "  .colab-df-quickchart {\n",
              "      --bg-color: #E8F0FE;\n",
              "      --fill-color: #1967D2;\n",
              "      --hover-bg-color: #E2EBFA;\n",
              "      --hover-fill-color: #174EA6;\n",
              "      --disabled-fill-color: #AAA;\n",
              "      --disabled-bg-color: #DDD;\n",
              "  }\n",
              "\n",
              "  [theme=dark] .colab-df-quickchart {\n",
              "      --bg-color: #3B4455;\n",
              "      --fill-color: #D2E3FC;\n",
              "      --hover-bg-color: #434B5C;\n",
              "      --hover-fill-color: #FFFFFF;\n",
              "      --disabled-bg-color: #3B4455;\n",
              "      --disabled-fill-color: #666;\n",
              "  }\n",
              "\n",
              "  .colab-df-quickchart {\n",
              "    background-color: var(--bg-color);\n",
              "    border: none;\n",
              "    border-radius: 50%;\n",
              "    cursor: pointer;\n",
              "    display: none;\n",
              "    fill: var(--fill-color);\n",
              "    height: 32px;\n",
              "    padding: 0;\n",
              "    width: 32px;\n",
              "  }\n",
              "\n",
              "  .colab-df-quickchart:hover {\n",
              "    background-color: var(--hover-bg-color);\n",
              "    box-shadow: 0 1px 2px rgba(60, 64, 67, 0.3), 0 1px 3px 1px rgba(60, 64, 67, 0.15);\n",
              "    fill: var(--button-hover-fill-color);\n",
              "  }\n",
              "\n",
              "  .colab-df-quickchart-complete:disabled,\n",
              "  .colab-df-quickchart-complete:disabled:hover {\n",
              "    background-color: var(--disabled-bg-color);\n",
              "    fill: var(--disabled-fill-color);\n",
              "    box-shadow: none;\n",
              "  }\n",
              "\n",
              "  .colab-df-spinner {\n",
              "    border: 2px solid var(--fill-color);\n",
              "    border-color: transparent;\n",
              "    border-bottom-color: var(--fill-color);\n",
              "    animation:\n",
              "      spin 1s steps(1) infinite;\n",
              "  }\n",
              "\n",
              "  @keyframes spin {\n",
              "    0% {\n",
              "      border-color: transparent;\n",
              "      border-bottom-color: var(--fill-color);\n",
              "      border-left-color: var(--fill-color);\n",
              "    }\n",
              "    20% {\n",
              "      border-color: transparent;\n",
              "      border-left-color: var(--fill-color);\n",
              "      border-top-color: var(--fill-color);\n",
              "    }\n",
              "    30% {\n",
              "      border-color: transparent;\n",
              "      border-left-color: var(--fill-color);\n",
              "      border-top-color: var(--fill-color);\n",
              "      border-right-color: var(--fill-color);\n",
              "    }\n",
              "    40% {\n",
              "      border-color: transparent;\n",
              "      border-right-color: var(--fill-color);\n",
              "      border-top-color: var(--fill-color);\n",
              "    }\n",
              "    60% {\n",
              "      border-color: transparent;\n",
              "      border-right-color: var(--fill-color);\n",
              "    }\n",
              "    80% {\n",
              "      border-color: transparent;\n",
              "      border-right-color: var(--fill-color);\n",
              "      border-bottom-color: var(--fill-color);\n",
              "    }\n",
              "    90% {\n",
              "      border-color: transparent;\n",
              "      border-bottom-color: var(--fill-color);\n",
              "    }\n",
              "  }\n",
              "</style>\n",
              "\n",
              "  <script>\n",
              "    async function quickchart(key) {\n",
              "      const quickchartButtonEl =\n",
              "        document.querySelector('#' + key + ' button');\n",
              "      quickchartButtonEl.disabled = true;  // To prevent multiple clicks.\n",
              "      quickchartButtonEl.classList.add('colab-df-spinner');\n",
              "      try {\n",
              "        const charts = await google.colab.kernel.invokeFunction(\n",
              "            'suggestCharts', [key], {});\n",
              "      } catch (error) {\n",
              "        console.error('Error during call to suggestCharts:', error);\n",
              "      }\n",
              "      quickchartButtonEl.classList.remove('colab-df-spinner');\n",
              "      quickchartButtonEl.classList.add('colab-df-quickchart-complete');\n",
              "    }\n",
              "    (() => {\n",
              "      let quickchartButtonEl =\n",
              "        document.querySelector('#df-a1d4313e-d5f9-4fa5-9a4c-d800a3574663 button');\n",
              "      quickchartButtonEl.style.display =\n",
              "        google.colab.kernel.accessAllowed ? 'block' : 'none';\n",
              "    })();\n",
              "  </script>\n",
              "</div>\n",
              "    </div>\n",
              "  </div>\n"
            ]
          },
          "metadata": {},
          "execution_count": 9
        }
      ]
    },
    {
      "cell_type": "markdown",
      "source": [
        "## Dataset Pre-processing"
      ],
      "metadata": {
        "id": "cdsXFE5zMZj_"
      }
    },
    {
      "cell_type": "code",
      "source": [
        "df_snow_melting = df_snow_melting[['Date',\"Q\",\"SCA\",\"T\"]]"
      ],
      "metadata": {
        "id": "I-mW16HqHlM1"
      },
      "execution_count": 10,
      "outputs": []
    },
    {
      "cell_type": "code",
      "source": [
        "import datetime\n",
        "\n",
        "def str_to_datetime(s):\n",
        "    split = s.split('/')\n",
        "    month,day,year = int(split[0]),int(split[1]),int(split[2])\n",
        "\n",
        "    return datetime.datetime(year=year,month=month,day=day)\n"
      ],
      "metadata": {
        "id": "2ubfg_AeqxVu"
      },
      "execution_count": 11,
      "outputs": []
    },
    {
      "cell_type": "code",
      "source": [
        "df_snow_melting['Date'] = df_snow_melting['Date'].apply(str_to_datetime)"
      ],
      "metadata": {
        "id": "zHRpHYAetBD9",
        "colab": {
          "base_uri": "https://localhost:8080/"
        },
        "outputId": "232165bb-15b8-48a7-c371-fab0efc0f7eb"
      },
      "execution_count": 12,
      "outputs": [
        {
          "output_type": "stream",
          "name": "stderr",
          "text": [
            "<ipython-input-12-feeee52291b4>:1: SettingWithCopyWarning: \n",
            "A value is trying to be set on a copy of a slice from a DataFrame.\n",
            "Try using .loc[row_indexer,col_indexer] = value instead\n",
            "\n",
            "See the caveats in the documentation: https://pandas.pydata.org/pandas-docs/stable/user_guide/indexing.html#returning-a-view-versus-a-copy\n",
            "  df_snow_melting['Date'] = df_snow_melting['Date'].apply(str_to_datetime)\n"
          ]
        }
      ]
    },
    {
      "cell_type": "markdown",
      "source": [
        "## Data visualization in time series"
      ],
      "metadata": {
        "id": "QF-z9tS6MhtE"
      }
    },
    {
      "cell_type": "code",
      "source": [
        "columns_to_plot = ['Q', 'SCA', 'T']\n",
        "\n",
        "# Create subplots for each column\n",
        "fig, axes = plt.subplots(len(columns_to_plot), 1, figsize=(10, 10), sharex=True)\n",
        "\n",
        "for i, column in enumerate(columns_to_plot):\n",
        "    axes[i].plot(df_snow_melting['Date'], df_snow_melting[column], label=column, color='C'+str(i))\n",
        "    axes[i].set_ylabel(column)\n",
        "    axes[i].legend()\n",
        "\n",
        "# Set common x-label\n",
        "axes[-1].set_xlabel('Date')\n",
        "\n",
        "# Adjust layout\n",
        "plt.tight_layout()\n",
        "\n",
        "# Show the plots\n",
        "plt.show()\n"
      ],
      "metadata": {
        "colab": {
          "base_uri": "https://localhost:8080/",
          "height": 1000
        },
        "id": "xj4kKN1ruPap",
        "outputId": "443dcb3d-b2bc-44f6-b399-dd9f95bde9e1"
      },
      "execution_count": 13,
      "outputs": [
        {
          "output_type": "display_data",
          "data": {
            "text/plain": [
              "<Figure size 1000x1000 with 3 Axes>"
            ],
            "image/png": "[encoded data removed]"
          },
          "metadata": {}
        }
      ]
    },
    {
      "cell_type": "markdown",
      "source": [
        "## Data Normalization"
      ],
      "metadata": {
        "id": "CMZk7Ak6MyjS"
      }
    },
    {
      "cell_type": "code",
      "source": [
        "\n",
        "# Initialize the MinMaxScaler\n",
        "scaler = StandardScaler()\n",
        "\n",
        "# Define the columns to be scaled (excluding the 'Date' column)\n",
        "columns_to_scale = ['SCA', 'T']\n",
        "\n",
        "# test\n",
        "\n",
        "df_snow_melting[columns_to_scale] = scaler.fit_transform(df_snow_melting[columns_to_scale])\n",
        "df_snow_melting\n",
        "\n"
      ],
      "metadata": {
        "colab": {
          "base_uri": "https://localhost:8080/",
          "height": 534
        },
        "id": "3ZohS5vQ2eqM",
        "outputId": "5c79f462-721b-4810-f372-21479fbfd0bc"
      },
      "execution_count": 14,
      "outputs": [
        {
          "output_type": "stream",
          "name": "stderr",
          "text": [
            "<ipython-input-14-c8bb3bd7978b>:9: SettingWithCopyWarning: \n",
            "A value is trying to be set on a copy of a slice from a DataFrame.\n",
            "Try using .loc[row_indexer,col_indexer] = value instead\n",
            "\n",
            "See the caveats in the documentation: https://pandas.pydata.org/pandas-docs/stable/user_guide/indexing.html#returning-a-view-versus-a-copy\n",
            "  df_snow_melting[columns_to_scale] = scaler.fit_transform(df_snow_melting[columns_to_scale])\n"
          ]
        },
        {
          "output_type": "execute_result",
          "data": {
            "text/plain": [
              "           Date     Q       SCA         T\n",
              "0    2001-01-01  2.69  1.306925 -1.170123\n",
              "1    2001-01-02  2.53  1.255788 -1.164703\n",
              "2    2001-01-03  2.53  1.205464 -1.365690\n",
              "3    2001-01-04  2.43  1.156767 -1.640360\n",
              "4    2001-01-05  2.53  1.110509 -1.707563\n",
              "...         ...   ...       ...       ...\n",
              "4012 2012-12-26  2.91 -1.409374 -1.466072\n",
              "4013 2012-12-27  2.91 -1.626085 -1.436107\n",
              "4014 2012-12-28  3.03 -1.839801 -1.441230\n",
              "4015 2012-12-29  2.97 -2.047526 -1.357451\n",
              "4016 2012-12-30  2.91 -2.246265 -1.338527\n",
              "\n",
              "[4017 rows x 4 columns]"
            ],
            "text/html": [
              "\n",
              "  <div id=\"df-60dfc46e-60f8-43d0-b02e-f01e012498fe\" class=\"colab-df-container\">\n",
              "    <div>\n",
              "<style scoped>\n",
              "    .dataframe tbody tr th:only-of-type {\n",
              "        vertical-align: middle;\n",
              "    }\n",
              "\n",
              "    .dataframe tbody tr th {\n",
              "        vertical-align: top;\n",
              "    }\n",
              "\n",
              "    .dataframe thead th {\n",
              "        text-align: right;\n",
              "    }\n",
              "</style>\n",
              "<table border=\"1\" class=\"dataframe\">\n",
              "  <thead>\n",
              "    <tr style=\"text-align: right;\">\n",
              "      <th></th>\n",
              "      <th>Date</th>\n",
              "      <th>Q</th>\n",
              "      <th>SCA</th>\n",
              "      <th>T</th>\n",
              "    </tr>\n",
              "  </thead>\n",
              "  <tbody>\n",
              "    <tr>\n",
              "      <th>0</th>\n",
              "      <td>2001-01-01</td>\n",
              "      <td>2.69</td>\n",
              "      <td>1.306925</td>\n",
              "      <td>-1.170123</td>\n",
              "    </tr>\n",
              "    <tr>\n",
              "      <th>1</th>\n",
              "      <td>2001-01-02</td>\n",
              "      <td>2.53</td>\n",
              "      <td>1.255788</td>\n",
              "      <td>-1.164703</td>\n",
              "    </tr>\n",
              "    <tr>\n",
              "      <th>2</th>\n",
              "      <td>2001-01-03</td>\n",
              "      <td>2.53</td>\n",
              "      <td>1.205464</td>\n",
              "      <td>-1.365690</td>\n",
              "    </tr>\n",
              "    <tr>\n",
              "      <th>3</th>\n",
              "      <td>2001-01-04</td>\n",
              "      <td>2.43</td>\n",
              "      <td>1.156767</td>\n",
              "      <td>-1.640360</td>\n",
              "    </tr>\n",
              "    <tr>\n",
              "      <th>4</th>\n",
              "      <td>2001-01-05</td>\n",
              "      <td>2.53</td>\n",
              "      <td>1.110509</td>\n",
              "      <td>-1.707563</td>\n",
              "    </tr>\n",
              "    <tr>\n",
              "      <th>...</th>\n",
              "      <td>...</td>\n",
              "      <td>...</td>\n",
              "      <td>...</td>\n",
              "      <td>...</td>\n",
              "    </tr>\n",
              "    <tr>\n",
              "      <th>4012</th>\n",
              "      <td>2012-12-26</td>\n",
              "      <td>2.91</td>\n",
              "      <td>-1.409374</td>\n",
              "      <td>-1.466072</td>\n",
              "    </tr>\n",
              "    <tr>\n",
              "      <th>4013</th>\n",
              "      <td>2012-12-27</td>\n",
              "      <td>2.91</td>\n",
              "      <td>-1.626085</td>\n",
              "      <td>-1.436107</td>\n",
              "    </tr>\n",
              "    <tr>\n",
              "      <th>4014</th>\n",
              "      <td>2012-12-28</td>\n",
              "      <td>3.03</td>\n",
              "      <td>-1.839801</td>\n",
              "      <td>-1.441230</td>\n",
              "    </tr>\n",
              "    <tr>\n",
              "      <th>4015</th>\n",
              "      <td>2012-12-29</td>\n",
              "      <td>2.97</td>\n",
              "      <td>-2.047526</td>\n",
              "      <td>-1.357451</td>\n",
              "    </tr>\n",
              "    <tr>\n",
              "      <th>4016</th>\n",
              "      <td>2012-12-30</td>\n",
              "      <td>2.91</td>\n",
              "      <td>-2.246265</td>\n",
              "      <td>-1.338527</td>\n",
              "    </tr>\n",
              "  </tbody>\n",
              "</table>\n",
              "<p>4017 rows × 4 columns</p>\n",
              "</div>\n",
              "    <div class=\"colab-df-buttons\">\n",
              "\n",
              "  <div class=\"colab-df-container\">\n",
              "    <button class=\"colab-df-convert\" onclick=\"convertToInteractive('df-60dfc46e-60f8-43d0-b02e-f01e012498fe')\"\n",
              "            title=\"Convert this dataframe to an interactive table.\"\n",
              "            style=\"display:none;\">\n",
              "\n",
              "  <svg xmlns=\"http://www.w3.org/2000/svg\" height=\"24px\" viewBox=\"0 -960 960 960\">\n",
              "    <path d=\"M120-120v-720h720v720H120Zm60-500h600v-160H180v160Zm220 220h160v-160H400v160Zm0 220h160v-160H400v160ZM180-400h160v-160H180v160Zm440 0h160v-160H620v160ZM180-180h160v-160H180v160Zm440 0h160v-160H620v160Z\"/>\n",
              "  </svg>\n",
              "    </button>\n",
              "\n",
              "  <style>\n",
              "    .colab-df-container {\n",
              "      display:flex;\n",
              "      gap: 12px;\n",
              "    }\n",
              "\n",
              "    .colab-df-convert {\n",
              "      background-color: #E8F0FE;\n",
              "      border: none;\n",
              "      border-radius: 50%;\n",
              "      cursor: pointer;\n",
              "      display: none;\n",
              "      fill: #1967D2;\n",
              "      height: 32px;\n",
              "      padding: 0 0 0 0;\n",
              "      width: 32px;\n",
              "    }\n",
              "\n",
              "    .colab-df-convert:hover {\n",
              "      background-color: #E2EBFA;\n",
              "      box-shadow: 0px 1px 2px rgba(60, 64, 67, 0.3), 0px 1px 3px 1px rgba(60, 64, 67, 0.15);\n",
              "      fill: #174EA6;\n",
              "    }\n",
              "\n",
              "    .colab-df-buttons div {\n",
              "      margin-bottom: 4px;\n",
              "    }\n",
              "\n",
              "    [theme=dark] .colab-df-convert {\n",
              "      background-color: #3B4455;\n",
              "      fill: #D2E3FC;\n",
              "    }\n",
              "\n",
              "    [theme=dark] .colab-df-convert:hover {\n",
              "      background-color: #434B5C;\n",
              "      box-shadow: 0px 1px 3px 1px rgba(0, 0, 0, 0.15);\n",
              "      filter: drop-shadow(0px 1px 2px rgba(0, 0, 0, 0.3));\n",
              "      fill: #FFFFFF;\n",
              "    }\n",
              "  </style>\n",
              "\n",
              "    <script>\n",
              "      const buttonEl =\n",
              "        document.querySelector('#df-60dfc46e-60f8-43d0-b02e-f01e012498fe button.colab-df-convert');\n",
              "      buttonEl.style.display =\n",
              "        google.colab.kernel.accessAllowed ? 'block' : 'none';\n",
              "\n",
              "      async function convertToInteractive(key) {\n",
              "        const element = document.querySelector('#df-60dfc46e-60f8-43d0-b02e-f01e012498fe');\n",
              "        const dataTable =\n",
              "          await google.colab.kernel.invokeFunction('convertToInteractive',\n",
              "                                                    [key], {});\n",
              "        if (!dataTable) return;\n",
              "\n",
              "        const docLinkHtml = 'Like what you see? Visit the ' +\n",
              "          '<a target=\"_blank\" href=https://colab.research.google.com/notebooks/data_table.ipynb>data table notebook</a>'\n",
              "          + ' to learn more about interactive tables.';\n",
              "        element.innerHTML = '';\n",
              "        dataTable['output_type'] = 'display_data';\n",
              "        await google.colab.output.renderOutput(dataTable, element);\n",
              "        const docLink = document.createElement('div');\n",
              "        docLink.innerHTML = docLinkHtml;\n",
              "        element.appendChild(docLink);\n",
              "      }\n",
              "    </script>\n",
              "  </div>\n",
              "\n",
              "\n",
              "<div id=\"df-87e6b71c-992e-4293-8514-20faed7f74d3\">\n",
              "  <button class=\"colab-df-quickchart\" onclick=\"quickchart('df-87e6b71c-992e-4293-8514-20faed7f74d3')\"\n",
              "            title=\"Suggest charts.\"\n",
              "            style=\"display:none;\">\n",
              "\n",
              "<svg xmlns=\"http://www.w3.org/2000/svg\" height=\"24px\"viewBox=\"0 0 24 24\"\n",
              "     width=\"24px\">\n",
              "    <g>\n",
              "        <path d=\"M19 3H5c-1.1 0-2 .9-2 2v14c0 1.1.9 2 2 2h14c1.1 0 2-.9 2-2V5c0-1.1-.9-2-2-2zM9 17H7v-7h2v7zm4 0h-2V7h2v10zm4 0h-2v-4h2v4z\"/>\n",
              "    </g>\n",
              "</svg>\n",
              "  </button>\n",
              "\n",
              "<style>\n",
              "  .colab-df-quickchart {\n",
              "      --bg-color: #E8F0FE;\n",
              "      --fill-color: #1967D2;\n",
              "      --hover-bg-color: #E2EBFA;\n",
              "      --hover-fill-color: #174EA6;\n",
              "      --disabled-fill-color: #AAA;\n",
              "      --disabled-bg-color: #DDD;\n",
              "  }\n",
              "\n",
              "  [theme=dark] .colab-df-quickchart {\n",
              "      --bg-color: #3B4455;\n",
              "      --fill-color: #D2E3FC;\n",
              "      --hover-bg-color: #434B5C;\n",
              "      --hover-fill-color: #FFFFFF;\n",
              "      --disabled-bg-color: #3B4455;\n",
              "      --disabled-fill-color: #666;\n",
              "  }\n",
              "\n",
              "  .colab-df-quickchart {\n",
              "    background-color: var(--bg-color);\n",
              "    border: none;\n",
              "    border-radius: 50%;\n",
              "    cursor: pointer;\n",
              "    display: none;\n",
              "    fill: var(--fill-color);\n",
              "    height: 32px;\n",
              "    padding: 0;\n",
              "    width: 32px;\n",
              "  }\n",
              "\n",
              "  .colab-df-quickchart:hover {\n",
              "    background-color: var(--hover-bg-color);\n",
              "    box-shadow: 0 1px 2px rgba(60, 64, 67, 0.3), 0 1px 3px 1px rgba(60, 64, 67, 0.15);\n",
              "    fill: var(--button-hover-fill-color);\n",
              "  }\n",
              "\n",
              "  .colab-df-quickchart-complete:disabled,\n",
              "  .colab-df-quickchart-complete:disabled:hover {\n",
              "    background-color: var(--disabled-bg-color);\n",
              "    fill: var(--disabled-fill-color);\n",
              "    box-shadow: none;\n",
              "  }\n",
              "\n",
              "  .colab-df-spinner {\n",
              "    border: 2px solid var(--fill-color);\n",
              "    border-color: transparent;\n",
              "    border-bottom-color: var(--fill-color);\n",
              "    animation:\n",
              "      spin 1s steps(1) infinite;\n",
              "  }\n",
              "\n",
              "  @keyframes spin {\n",
              "    0% {\n",
              "      border-color: transparent;\n",
              "      border-bottom-color: var(--fill-color);\n",
              "      border-left-color: var(--fill-color);\n",
              "    }\n",
              "    20% {\n",
              "      border-color: transparent;\n",
              "      border-left-color: var(--fill-color);\n",
              "      border-top-color: var(--fill-color);\n",
              "    }\n",
              "    30% {\n",
              "      border-color: transparent;\n",
              "      border-left-color: var(--fill-color);\n",
              "      border-top-color: var(--fill-color);\n",
              "      border-right-color: var(--fill-color);\n",
              "    }\n",
              "    40% {\n",
              "      border-color: transparent;\n",
              "      border-right-color: var(--fill-color);\n",
              "      border-top-color: var(--fill-color);\n",
              "    }\n",
              "    60% {\n",
              "      border-color: transparent;\n",
              "      border-right-color: var(--fill-color);\n",
              "    }\n",
              "    80% {\n",
              "      border-color: transparent;\n",
              "      border-right-color: var(--fill-color);\n",
              "      border-bottom-color: var(--fill-color);\n",
              "    }\n",
              "    90% {\n",
              "      border-color: transparent;\n",
              "      border-bottom-color: var(--fill-color);\n",
              "    }\n",
              "  }\n",
              "</style>\n",
              "\n",
              "  <script>\n",
              "    async function quickchart(key) {\n",
              "      const quickchartButtonEl =\n",
              "        document.querySelector('#' + key + ' button');\n",
              "      quickchartButtonEl.disabled = true;  // To prevent multiple clicks.\n",
              "      quickchartButtonEl.classList.add('colab-df-spinner');\n",
              "      try {\n",
              "        const charts = await google.colab.kernel.invokeFunction(\n",
              "            'suggestCharts', [key], {});\n",
              "      } catch (error) {\n",
              "        console.error('Error during call to suggestCharts:', error);\n",
              "      }\n",
              "      quickchartButtonEl.classList.remove('colab-df-spinner');\n",
              "      quickchartButtonEl.classList.add('colab-df-quickchart-complete');\n",
              "    }\n",
              "    (() => {\n",
              "      let quickchartButtonEl =\n",
              "        document.querySelector('#df-87e6b71c-992e-4293-8514-20faed7f74d3 button');\n",
              "      quickchartButtonEl.style.display =\n",
              "        google.colab.kernel.accessAllowed ? 'block' : 'none';\n",
              "    })();\n",
              "  </script>\n",
              "</div>\n",
              "    </div>\n",
              "  </div>\n"
            ]
          },
          "metadata": {},
          "execution_count": 14
        }
      ]
    },
    {
      "cell_type": "code",
      "source": [
        "# Define the feature columns (X) and target column (y)\n",
        "feature_columns = ['SCA', 'T']\n",
        "target_column = 'Q'\n",
        "\n",
        "X, y = df_snow_melting[feature_columns], df_snow_melting[target_column]\n",
        "\n",
        "X,y = X.values,y.values\n"
      ],
      "metadata": {
        "id": "4pdCllhP_fth"
      },
      "execution_count": 15,
      "outputs": []
    },
    {
      "cell_type": "markdown",
      "source": [
        "# Split dataset as train test and val\n"
      ],
      "metadata": {
        "id": "uawlwgihyZdx"
      }
    },
    {
      "cell_type": "code",
      "source": [
        "\n",
        "# Split the data into training, validation, and test sets\n",
        "X_train, X_temp, y_train, y_temp = train_test_split(X, y, test_size=0.2, random_state=42)  # 80% training\n",
        "\n",
        "# Further split the remaining data into validation and test sets\n",
        "X_val, X_test, y_val, y_test = train_test_split(X_temp, y_temp, test_size=0.5, random_state=42)  # 10% validation, 10% testing\n"
      ],
      "metadata": {
        "id": "u3JZ00i91qDR"
      },
      "execution_count": 16,
      "outputs": []
    },
    {
      "cell_type": "code",
      "source": [
        "#  reshape the data to fit in model for Lstm (3D array)\n",
        "X_train = np.reshape(X_train, (X_train.shape[0], X_train.shape[1], 1))\n",
        "X_val = np.reshape(X_val, (X_val.shape[0], X_val.shape[1], 1))\n",
        "X_test = np.reshape(X_test, (X_test.shape[0], X_test.shape[1], 1))\n"
      ],
      "metadata": {
        "id": "4qEejNNBSj61"
      },
      "execution_count": 17,
      "outputs": []
    },
    {
      "cell_type": "code",
      "source": [
        "print(\"Train shape\",X_train.shape)\n",
        "print(\"val shape\",X_val.shape)\n",
        "print(\"Test shape\",X_test.shape)"
      ],
      "metadata": {
        "colab": {
          "base_uri": "https://localhost:8080/"
        },
        "id": "MxMUQmyk6C1v",
        "outputId": "287f0e14-1fcb-4055-e215-803362c7a26a"
      },
      "execution_count": 18,
      "outputs": [
        {
          "output_type": "stream",
          "name": "stdout",
          "text": [
            "Train shape (3213, 2, 1)\n",
            "val shape (402, 2, 1)\n",
            "Test shape (402, 2, 1)\n"
          ]
        }
      ]
    },
    {
      "cell_type": "markdown",
      "source": [
        "# LSTM (Long Short Term Memory)"
      ],
      "metadata": {
        "id": "U7JvBTB1_ot-"
      }
    },
    {
      "cell_type": "markdown",
      "source": [
        "## Create model"
      ],
      "metadata": {
        "id": "E8KJ65k3Cimq"
      }
    },
    {
      "cell_type": "code",
      "source": [
        "\n",
        "model = Sequential()\n",
        "model.add(LSTM(32, activation='relu', return_sequences=False, input_shape=(X_train.shape[1], 1)))\n",
        "model.add(Dropout(0.1))\n",
        "model.add(Dense(1, activation='linear'))\n",
        "\n",
        "optimizer = Adamax(learning_rate=0.01,beta_1=0.9, beta_2=0.999)\n",
        "model.compile(optimizer=optimizer, loss='mean_squared_error', metrics=['mae', 'mse',])\n",
        "\n",
        "model.summary()"
      ],
      "metadata": {
        "id": "vlOTICyQOBhQ"
      },
      "execution_count": 27,
      "outputs": []
    },
    {
      "cell_type": "code",
      "source": [
        "\n",
        "model.fit(X_train, y_train, validation_data=(X_val, y_val), epochs=100, batch_size=32)\n"
      ],
      "metadata": {
        "id": "dziI_ApmS1zf"
      },
      "execution_count": 26,
      "outputs": []
    },
    {
      "cell_type": "markdown",
      "source": [
        "# Hyperparameter Tuning"
      ],
      "metadata": {
        "id": "BkdtVHmROF3u"
      }
    },
    {
      "cell_type": "markdown",
      "source": [
        "# find optimizers"
      ],
      "metadata": {
        "id": "EBlzJKN0SKtr"
      }
    },
    {
      "cell_type": "code",
      "source": [
        "def build_model(hp):\n",
        "    model = Sequential()\n",
        "    model.add(LSTM(32, activation='relu', return_sequences=False, input_shape=(X_train.shape[1], 1)))\n",
        "    model.add(Dropout(0.1))\n",
        "    model.add(Dense(1, activation='linear'))\n",
        "\n",
        "    optimizer = hp.Choice('optimizer', values = [\"sgd\",\"rmsprop\",\"adam\",\"adadelta\",\"adagrad\",\"adamax\",\"adam\"])\n",
        "    model.compile(optimizer=optimizer, loss='mean_squared_error', metrics=['mae', 'mse',])\n",
        "\n",
        "    return model\n"
      ],
      "metadata": {
        "id": "pJLKGuviOOQJ"
      },
      "execution_count": 33,
      "outputs": []
    },
    {
      "cell_type": "code",
      "source": [
        "from sklearn.utils import validation\n",
        "tuner  = kt.RandomSearch(build_model,\n",
        "                         objective='val_loss',\n",
        "                         max_trials=10)\n",
        "\n",
        "tuner.search(X_train,y_train,epochs=5,validation_data=(X_val,y_val))"
      ],
      "metadata": {
        "id": "MSsFt-CTTmkf",
        "outputId": "76e1306f-b9b5-4059-bad6-7ea1ea920d12",
        "colab": {
          "base_uri": "https://localhost:8080/"
        }
      },
      "execution_count": 53,
      "outputs": [
        {
          "output_type": "stream",
          "name": "stdout",
          "text": [
            "Trial 6 Complete [00h 00m 05s]\n",
            "val_loss: 67.3488540649414\n",
            "\n",
            "Best val_loss So Far: 7.22945499420166\n",
            "Total elapsed time: 00h 00m 30s\n"
          ]
        }
      ]
    },
    {
      "cell_type": "code",
      "source": [
        "tuner.get_best_hyperparameters()[0].values\n"
      ],
      "metadata": {
        "id": "2EXbtbjfVwWT",
        "outputId": "6a2dc54c-3486-4d8a-f34a-8b3e86e9102e",
        "colab": {
          "base_uri": "https://localhost:8080/"
        }
      },
      "execution_count": 54,
      "outputs": [
        {
          "output_type": "execute_result",
          "data": {
            "text/plain": [
              "{'optimizer': 'sgd'}"
            ]
          },
          "metadata": {},
          "execution_count": 54
        }
      ]
    },
    {
      "cell_type": "code",
      "source": [
        "!rm -r /content/untitled_project"
      ],
      "metadata": {
        "id": "uhm0STX8Zdvt"
      },
      "execution_count": 94,
      "outputs": []
    },
    {
      "cell_type": "markdown",
      "source": [
        "## Number of hidden units"
      ],
      "metadata": {
        "id": "SIkQqRzVdz7n"
      }
    },
    {
      "cell_type": "code",
      "source": [
        "def build_model(hp):\n",
        "    model = Sequential()\n",
        "\n",
        "    units = hp.Int('units',min_value = 1,max_value = 128,step=5)\n",
        "\n",
        "    model.add(LSTM(units=units, activation='relu', return_sequences=False, input_shape=(X_train.shape[1], 1)))\n",
        "    model.add(Dropout(0.1))\n",
        "    model.add(Dense(1, activation='linear'))\n",
        "    optimizer = hp.Choice('optimizer', values = [\"sgd\",\"rmsprop\",\"adam\",\"adadelta\",\"adagrad\",\"adamax\",\"adam\"])\n",
        "    model.compile(optimizer=optimizer, loss='mean_squared_error', metrics=['mae', 'mse',])\n",
        "\n",
        "    return model\n",
        "\n"
      ],
      "metadata": {
        "id": "tPHiqVhfeKvT"
      },
      "execution_count": 77,
      "outputs": []
    },
    {
      "cell_type": "code",
      "source": [
        "from sklearn.utils import validation\n",
        "tuner  = kt.RandomSearch(build_model,\n",
        "                         objective='val_mae',\n",
        "                         max_trials=100)\n",
        "\n",
        "tuner.search(X_train,y_train,epochs=5,validation_data=(X_val,y_val))"
      ],
      "metadata": {
        "id": "nswK66vReyDS",
        "outputId": "6a497c73-2f8f-4968-8061-67447362dfb6",
        "colab": {
          "base_uri": "https://localhost:8080/"
        }
      },
      "execution_count": 78,
      "outputs": [
        {
          "output_type": "stream",
          "name": "stdout",
          "text": [
            "Trial 100 Complete [00h 00m 05s]\n",
            "val_mae: 6.208195686340332\n",
            "\n",
            "Best val_mae So Far: 1.8050360679626465\n",
            "Total elapsed time: 00h 09m 47s\n"
          ]
        }
      ]
    },
    {
      "cell_type": "code",
      "source": [
        "tuner.get_best_hyperparameters()[0].values"
      ],
      "metadata": {
        "id": "uPyn-ngkfm-h",
        "outputId": "bf17b94e-4a08-43b0-df22-efdeab2bd13d",
        "colab": {
          "base_uri": "https://localhost:8080/"
        }
      },
      "execution_count": 79,
      "outputs": [
        {
          "output_type": "execute_result",
          "data": {
            "text/plain": [
              "{'units': 36, 'optimizer': 'sgd'}"
            ]
          },
          "metadata": {},
          "execution_count": 79
        }
      ]
    },
    {
      "cell_type": "code",
      "source": [
        "model = tuner.get_best_models(num_models=1)[0]\n",
        "print(model.summary())\n",
        "model.fit(X_train,y_train,batch_size=32,epochs=100,validation_data=(X_val,y_val))"
      ],
      "metadata": {
        "id": "EaQV5uDWakFV",
        "outputId": "eb08f8c0-547d-4d9d-b6ca-82e73b32052b",
        "colab": {
          "base_uri": "https://localhost:8080/"
        }
      },
      "execution_count": 81,
      "outputs": [
        {
          "output_type": "stream",
          "name": "stdout",
          "text": [
            "Model: \"sequential\"\n",
            "_________________________________________________________________\n",
            " Layer (type)                Output Shape              Param #   \n",
            "=================================================================\n",
            " lstm (LSTM)                 (None, 36)                5472      \n",
            "                                                                 \n",
            " dropout (Dropout)           (None, 36)                0         \n",
            "                                                                 \n",
            " dense (Dense)               (None, 1)                 37        \n",
            "                                                                 \n",
            "=================================================================\n",
            "Total params: 5509 (21.52 KB)\n",
            "Trainable params: 5509 (21.52 KB)\n",
            "Non-trainable params: 0 (0.00 Byte)\n",
            "_________________________________________________________________\n",
            "None\n",
            "Epoch 1/100\n",
            "101/101 [==============================] - 2s 7ms/step - loss: 9.0709 - mae: 2.0290 - mse: 9.0709 - val_loss: 7.1922 - val_mae: 1.8182 - val_mse: 7.1922\n",
            "Epoch 2/100\n",
            "101/101 [==============================] - 0s 4ms/step - loss: 8.8137 - mae: 2.0119 - mse: 8.8137 - val_loss: 7.1511 - val_mae: 1.8066 - val_mse: 7.1511\n",
            "Epoch 3/100\n",
            "101/101 [==============================] - 0s 4ms/step - loss: 8.9842 - mae: 2.0177 - mse: 8.9842 - val_loss: 7.2000 - val_mae: 1.8195 - val_mse: 7.2000\n",
            "Epoch 4/100\n",
            "101/101 [==============================] - 0s 4ms/step - loss: 8.9752 - mae: 2.0126 - mse: 8.9752 - val_loss: 7.0734 - val_mae: 1.7851 - val_mse: 7.0734\n",
            "Epoch 5/100\n",
            "101/101 [==============================] - 0s 4ms/step - loss: 9.0291 - mae: 2.0198 - mse: 9.0291 - val_loss: 7.0950 - val_mae: 1.7804 - val_mse: 7.0950\n",
            "Epoch 6/100\n",
            "101/101 [==============================] - 0s 4ms/step - loss: 8.4429 - mae: 1.9659 - mse: 8.4429 - val_loss: 7.0939 - val_mae: 1.7903 - val_mse: 7.0939\n",
            "Epoch 7/100\n",
            "101/101 [==============================] - 0s 3ms/step - loss: 8.6669 - mae: 1.9971 - mse: 8.6669 - val_loss: 8.2306 - val_mae: 1.9296 - val_mse: 8.2306\n",
            "Epoch 8/100\n",
            "101/101 [==============================] - 0s 4ms/step - loss: 8.6718 - mae: 1.9854 - mse: 8.6718 - val_loss: 7.0817 - val_mae: 1.7851 - val_mse: 7.0817\n",
            "Epoch 9/100\n",
            "101/101 [==============================] - 1s 6ms/step - loss: 8.6060 - mae: 1.9778 - mse: 8.6060 - val_loss: 7.0966 - val_mae: 1.7946 - val_mse: 7.0966\n",
            "Epoch 10/100\n",
            "101/101 [==============================] - 1s 6ms/step - loss: 8.8680 - mae: 2.0061 - mse: 8.8680 - val_loss: 7.0281 - val_mae: 1.7670 - val_mse: 7.0281\n",
            "Epoch 11/100\n",
            "101/101 [==============================] - 1s 6ms/step - loss: 8.6666 - mae: 1.9748 - mse: 8.6666 - val_loss: 7.2018 - val_mae: 1.8083 - val_mse: 7.2018\n",
            "Epoch 12/100\n",
            "101/101 [==============================] - 1s 6ms/step - loss: 8.6634 - mae: 1.9636 - mse: 8.6634 - val_loss: 7.2726 - val_mae: 1.7652 - val_mse: 7.2726\n",
            "Epoch 13/100\n",
            "101/101 [==============================] - 1s 6ms/step - loss: 8.7139 - mae: 1.9920 - mse: 8.7139 - val_loss: 6.9853 - val_mae: 1.7574 - val_mse: 6.9853\n",
            "Epoch 14/100\n",
            "101/101 [==============================] - 1s 6ms/step - loss: 8.6012 - mae: 1.9692 - mse: 8.6012 - val_loss: 7.0982 - val_mae: 1.7866 - val_mse: 7.0982\n",
            "Epoch 15/100\n",
            "101/101 [==============================] - 1s 6ms/step - loss: 8.4956 - mae: 1.9624 - mse: 8.4956 - val_loss: 7.0814 - val_mae: 1.7851 - val_mse: 7.0814\n",
            "Epoch 16/100\n",
            "101/101 [==============================] - 1s 6ms/step - loss: 8.6718 - mae: 1.9770 - mse: 8.6718 - val_loss: 7.0005 - val_mae: 1.7732 - val_mse: 7.0005\n",
            "Epoch 17/100\n",
            "101/101 [==============================] - 0s 5ms/step - loss: 8.8202 - mae: 1.9917 - mse: 8.8202 - val_loss: 7.0613 - val_mae: 1.7877 - val_mse: 7.0613\n",
            "Epoch 18/100\n",
            "101/101 [==============================] - 0s 4ms/step - loss: 8.5440 - mae: 1.9697 - mse: 8.5440 - val_loss: 7.0130 - val_mae: 1.7639 - val_mse: 7.0130\n",
            "Epoch 19/100\n",
            "101/101 [==============================] - 0s 4ms/step - loss: 8.4441 - mae: 1.9656 - mse: 8.4441 - val_loss: 7.1996 - val_mae: 1.7955 - val_mse: 7.1996\n",
            "Epoch 20/100\n",
            "101/101 [==============================] - 0s 4ms/step - loss: 8.6291 - mae: 1.9720 - mse: 8.6291 - val_loss: 6.9882 - val_mae: 1.7722 - val_mse: 6.9882\n",
            "Epoch 21/100\n",
            "101/101 [==============================] - 0s 4ms/step - loss: 8.6262 - mae: 1.9734 - mse: 8.6262 - val_loss: 6.9734 - val_mae: 1.7546 - val_mse: 6.9734\n",
            "Epoch 22/100\n",
            "101/101 [==============================] - 0s 4ms/step - loss: 8.4052 - mae: 1.9599 - mse: 8.4052 - val_loss: 6.9238 - val_mae: 1.7476 - val_mse: 6.9238\n",
            "Epoch 23/100\n",
            "101/101 [==============================] - 0s 4ms/step - loss: 8.3082 - mae: 1.9528 - mse: 8.3082 - val_loss: 6.9348 - val_mae: 1.7453 - val_mse: 6.9348\n",
            "Epoch 24/100\n",
            "101/101 [==============================] - 0s 4ms/step - loss: 8.4433 - mae: 1.9606 - mse: 8.4433 - val_loss: 6.9769 - val_mae: 1.7606 - val_mse: 6.9769\n",
            "Epoch 25/100\n",
            "101/101 [==============================] - 0s 4ms/step - loss: 8.5924 - mae: 1.9812 - mse: 8.5924 - val_loss: 6.9110 - val_mae: 1.7393 - val_mse: 6.9110\n",
            "Epoch 26/100\n",
            "101/101 [==============================] - 0s 4ms/step - loss: 8.4810 - mae: 1.9620 - mse: 8.4810 - val_loss: 6.9428 - val_mae: 1.7540 - val_mse: 6.9428\n",
            "Epoch 27/100\n",
            "101/101 [==============================] - 0s 4ms/step - loss: 8.5830 - mae: 1.9721 - mse: 8.5830 - val_loss: 7.4104 - val_mae: 1.8174 - val_mse: 7.4104\n",
            "Epoch 28/100\n",
            "101/101 [==============================] - 0s 4ms/step - loss: 8.5098 - mae: 1.9577 - mse: 8.5098 - val_loss: 7.0593 - val_mae: 1.7313 - val_mse: 7.0593\n",
            "Epoch 29/100\n",
            "101/101 [==============================] - 0s 4ms/step - loss: 8.4685 - mae: 1.9602 - mse: 8.4685 - val_loss: 6.8851 - val_mae: 1.7435 - val_mse: 6.8851\n",
            "Epoch 30/100\n",
            "101/101 [==============================] - 0s 4ms/step - loss: 8.5502 - mae: 1.9602 - mse: 8.5502 - val_loss: 6.9131 - val_mae: 1.7522 - val_mse: 6.9131\n",
            "Epoch 31/100\n",
            "101/101 [==============================] - 0s 4ms/step - loss: 8.4596 - mae: 1.9695 - mse: 8.4596 - val_loss: 7.1156 - val_mae: 1.7293 - val_mse: 7.1156\n",
            "Epoch 32/100\n",
            "101/101 [==============================] - 0s 4ms/step - loss: 8.3816 - mae: 1.9306 - mse: 8.3816 - val_loss: 6.8984 - val_mae: 1.7492 - val_mse: 6.8984\n",
            "Epoch 33/100\n",
            "101/101 [==============================] - 0s 3ms/step - loss: 8.2550 - mae: 1.9386 - mse: 8.2550 - val_loss: 6.8801 - val_mae: 1.7518 - val_mse: 6.8801\n",
            "Epoch 34/100\n",
            "101/101 [==============================] - 0s 4ms/step - loss: 8.2610 - mae: 1.9328 - mse: 8.2610 - val_loss: 7.0963 - val_mae: 1.7818 - val_mse: 7.0963\n",
            "Epoch 35/100\n",
            "101/101 [==============================] - 0s 4ms/step - loss: 8.2888 - mae: 1.9313 - mse: 8.2888 - val_loss: 6.8574 - val_mae: 1.7325 - val_mse: 6.8574\n",
            "Epoch 36/100\n",
            "101/101 [==============================] - 0s 4ms/step - loss: 8.3492 - mae: 1.9373 - mse: 8.3492 - val_loss: 6.8394 - val_mae: 1.7357 - val_mse: 6.8394\n",
            "Epoch 37/100\n",
            "101/101 [==============================] - 0s 4ms/step - loss: 8.3788 - mae: 1.9466 - mse: 8.3788 - val_loss: 6.9314 - val_mae: 1.7199 - val_mse: 6.9314\n",
            "Epoch 38/100\n",
            "101/101 [==============================] - 0s 4ms/step - loss: 8.1840 - mae: 1.9217 - mse: 8.1840 - val_loss: 6.8434 - val_mae: 1.7330 - val_mse: 6.8434\n",
            "Epoch 39/100\n",
            "101/101 [==============================] - 0s 4ms/step - loss: 8.1405 - mae: 1.9190 - mse: 8.1405 - val_loss: 6.8144 - val_mae: 1.7191 - val_mse: 6.8144\n",
            "Epoch 40/100\n",
            "101/101 [==============================] - 0s 4ms/step - loss: 8.5832 - mae: 1.9548 - mse: 8.5832 - val_loss: 6.8242 - val_mae: 1.7342 - val_mse: 6.8242\n",
            "Epoch 41/100\n",
            "101/101 [==============================] - 0s 4ms/step - loss: 8.4254 - mae: 1.9457 - mse: 8.4254 - val_loss: 6.8812 - val_mae: 1.7235 - val_mse: 6.8812\n",
            "Epoch 42/100\n",
            "101/101 [==============================] - 0s 5ms/step - loss: 8.4167 - mae: 1.9399 - mse: 8.4167 - val_loss: 7.1507 - val_mae: 1.7659 - val_mse: 7.1507\n",
            "Epoch 43/100\n",
            "101/101 [==============================] - 1s 6ms/step - loss: 8.3633 - mae: 1.9284 - mse: 8.3633 - val_loss: 7.1673 - val_mae: 1.7701 - val_mse: 7.1673\n",
            "Epoch 44/100\n",
            "101/101 [==============================] - 1s 6ms/step - loss: 8.4154 - mae: 1.9330 - mse: 8.4154 - val_loss: 6.9039 - val_mae: 1.7531 - val_mse: 6.9039\n",
            "Epoch 45/100\n",
            "101/101 [==============================] - 1s 6ms/step - loss: 8.3547 - mae: 1.9224 - mse: 8.3547 - val_loss: 6.8508 - val_mae: 1.7388 - val_mse: 6.8508\n",
            "Epoch 46/100\n",
            "101/101 [==============================] - 1s 5ms/step - loss: 8.2636 - mae: 1.9312 - mse: 8.2636 - val_loss: 6.9454 - val_mae: 1.7413 - val_mse: 6.9454\n",
            "Epoch 47/100\n",
            "101/101 [==============================] - 1s 6ms/step - loss: 8.2991 - mae: 1.9281 - mse: 8.2991 - val_loss: 6.8914 - val_mae: 1.7357 - val_mse: 6.8914\n",
            "Epoch 48/100\n",
            "101/101 [==============================] - 1s 6ms/step - loss: 8.2919 - mae: 1.9216 - mse: 8.2919 - val_loss: 6.8196 - val_mae: 1.7302 - val_mse: 6.8196\n",
            "Epoch 49/100\n",
            "101/101 [==============================] - 1s 6ms/step - loss: 8.0950 - mae: 1.9106 - mse: 8.0950 - val_loss: 6.7982 - val_mae: 1.7179 - val_mse: 6.7982\n",
            "Epoch 50/100\n",
            "101/101 [==============================] - 1s 6ms/step - loss: 8.0778 - mae: 1.9115 - mse: 8.0778 - val_loss: 7.0495 - val_mae: 1.7433 - val_mse: 7.0495\n",
            "Epoch 51/100\n",
            "101/101 [==============================] - 0s 4ms/step - loss: 8.0826 - mae: 1.8989 - mse: 8.0826 - val_loss: 7.1496 - val_mae: 1.7154 - val_mse: 7.1496\n",
            "Epoch 52/100\n",
            "101/101 [==============================] - 0s 4ms/step - loss: 8.2464 - mae: 1.9194 - mse: 8.2464 - val_loss: 6.8663 - val_mae: 1.7236 - val_mse: 6.8663\n",
            "Epoch 53/100\n",
            "101/101 [==============================] - 0s 4ms/step - loss: 8.1092 - mae: 1.9157 - mse: 8.1092 - val_loss: 6.8613 - val_mae: 1.7073 - val_mse: 6.8613\n",
            "Epoch 54/100\n",
            "101/101 [==============================] - 0s 4ms/step - loss: 8.2185 - mae: 1.9288 - mse: 8.2185 - val_loss: 6.8242 - val_mae: 1.7205 - val_mse: 6.8242\n",
            "Epoch 55/100\n",
            "101/101 [==============================] - 0s 3ms/step - loss: 8.3091 - mae: 1.9192 - mse: 8.3091 - val_loss: 6.7646 - val_mae: 1.7026 - val_mse: 6.7646\n",
            "Epoch 56/100\n",
            "101/101 [==============================] - 0s 4ms/step - loss: 8.2204 - mae: 1.9166 - mse: 8.2204 - val_loss: 6.7653 - val_mae: 1.7092 - val_mse: 6.7653\n",
            "Epoch 57/100\n",
            "101/101 [==============================] - 0s 4ms/step - loss: 8.1350 - mae: 1.9177 - mse: 8.1350 - val_loss: 6.7700 - val_mae: 1.7158 - val_mse: 6.7700\n",
            "Epoch 58/100\n",
            "101/101 [==============================] - 0s 4ms/step - loss: 7.9241 - mae: 1.8912 - mse: 7.9241 - val_loss: 6.7586 - val_mae: 1.7128 - val_mse: 6.7586\n",
            "Epoch 59/100\n",
            "101/101 [==============================] - 0s 4ms/step - loss: 8.2633 - mae: 1.9228 - mse: 8.2633 - val_loss: 6.7626 - val_mae: 1.7097 - val_mse: 6.7626\n",
            "Epoch 60/100\n",
            "101/101 [==============================] - 0s 4ms/step - loss: 8.1553 - mae: 1.9136 - mse: 8.1553 - val_loss: 6.7782 - val_mae: 1.7156 - val_mse: 6.7782\n",
            "Epoch 61/100\n",
            "101/101 [==============================] - 0s 4ms/step - loss: 8.1919 - mae: 1.9099 - mse: 8.1919 - val_loss: 6.7681 - val_mae: 1.7113 - val_mse: 6.7681\n",
            "Epoch 62/100\n",
            "101/101 [==============================] - 0s 4ms/step - loss: 8.1166 - mae: 1.9035 - mse: 8.1166 - val_loss: 6.7587 - val_mae: 1.7064 - val_mse: 6.7587\n",
            "Epoch 63/100\n",
            "101/101 [==============================] - 0s 4ms/step - loss: 8.2055 - mae: 1.9263 - mse: 8.2055 - val_loss: 6.8591 - val_mae: 1.7288 - val_mse: 6.8591\n",
            "Epoch 64/100\n",
            "101/101 [==============================] - 0s 4ms/step - loss: 8.3161 - mae: 1.9246 - mse: 8.3161 - val_loss: 6.7516 - val_mae: 1.7025 - val_mse: 6.7516\n",
            "Epoch 65/100\n",
            "101/101 [==============================] - 0s 4ms/step - loss: 8.0970 - mae: 1.8988 - mse: 8.0970 - val_loss: 6.7637 - val_mae: 1.7127 - val_mse: 6.7637\n",
            "Epoch 66/100\n",
            "101/101 [==============================] - 0s 3ms/step - loss: 7.9899 - mae: 1.8918 - mse: 7.9899 - val_loss: 7.8167 - val_mae: 1.8454 - val_mse: 7.8167\n",
            "Epoch 67/100\n",
            "101/101 [==============================] - 0s 4ms/step - loss: 8.0906 - mae: 1.9039 - mse: 8.0906 - val_loss: 6.7706 - val_mae: 1.7049 - val_mse: 6.7706\n",
            "Epoch 68/100\n",
            "101/101 [==============================] - 0s 3ms/step - loss: 8.1763 - mae: 1.9175 - mse: 8.1763 - val_loss: 6.8335 - val_mae: 1.7289 - val_mse: 6.8335\n",
            "Epoch 69/100\n",
            "101/101 [==============================] - 0s 4ms/step - loss: 8.0118 - mae: 1.9095 - mse: 8.0118 - val_loss: 6.7706 - val_mae: 1.7150 - val_mse: 6.7706\n",
            "Epoch 70/100\n",
            "101/101 [==============================] - 0s 3ms/step - loss: 8.2218 - mae: 1.9141 - mse: 8.2218 - val_loss: 6.8332 - val_mae: 1.7280 - val_mse: 6.8332\n",
            "Epoch 71/100\n",
            "101/101 [==============================] - 0s 4ms/step - loss: 7.9686 - mae: 1.8996 - mse: 7.9686 - val_loss: 6.7454 - val_mae: 1.7054 - val_mse: 6.7454\n",
            "Epoch 72/100\n",
            "101/101 [==============================] - 0s 4ms/step - loss: 8.1524 - mae: 1.8996 - mse: 8.1524 - val_loss: 6.7381 - val_mae: 1.7069 - val_mse: 6.7381\n",
            "Epoch 73/100\n",
            "101/101 [==============================] - 0s 3ms/step - loss: 8.0332 - mae: 1.8930 - mse: 8.0332 - val_loss: 6.7958 - val_mae: 1.7185 - val_mse: 6.7958\n",
            "Epoch 74/100\n",
            "101/101 [==============================] - 0s 4ms/step - loss: 8.2084 - mae: 1.9143 - mse: 8.2084 - val_loss: 7.3925 - val_mae: 1.7316 - val_mse: 7.3925\n",
            "Epoch 75/100\n",
            "101/101 [==============================] - 0s 4ms/step - loss: 8.0503 - mae: 1.9082 - mse: 8.0503 - val_loss: 6.9195 - val_mae: 1.7279 - val_mse: 6.9195\n",
            "Epoch 76/100\n",
            "101/101 [==============================] - 0s 3ms/step - loss: 7.9997 - mae: 1.9003 - mse: 7.9997 - val_loss: 6.9328 - val_mae: 1.7341 - val_mse: 6.9328\n",
            "Epoch 77/100\n",
            "101/101 [==============================] - 1s 6ms/step - loss: 8.1859 - mae: 1.9116 - mse: 8.1859 - val_loss: 6.8406 - val_mae: 1.7044 - val_mse: 6.8406\n",
            "Epoch 78/100\n",
            "101/101 [==============================] - 1s 6ms/step - loss: 8.0727 - mae: 1.9107 - mse: 8.0727 - val_loss: 7.2322 - val_mae: 1.7722 - val_mse: 7.2322\n",
            "Epoch 79/100\n",
            "101/101 [==============================] - 1s 6ms/step - loss: 8.1516 - mae: 1.9092 - mse: 8.1516 - val_loss: 6.7396 - val_mae: 1.7057 - val_mse: 6.7396\n",
            "Epoch 80/100\n",
            "101/101 [==============================] - 1s 6ms/step - loss: 8.0003 - mae: 1.9009 - mse: 8.0003 - val_loss: 7.1408 - val_mae: 1.7585 - val_mse: 7.1408\n",
            "Epoch 81/100\n",
            "101/101 [==============================] - 1s 6ms/step - loss: 8.1381 - mae: 1.8946 - mse: 8.1381 - val_loss: 6.8102 - val_mae: 1.7106 - val_mse: 6.8102\n",
            "Epoch 82/100\n",
            "101/101 [==============================] - 1s 6ms/step - loss: 8.0429 - mae: 1.9000 - mse: 8.0429 - val_loss: 6.7440 - val_mae: 1.7207 - val_mse: 6.7440\n",
            "Epoch 83/100\n",
            "101/101 [==============================] - 1s 6ms/step - loss: 8.0448 - mae: 1.9006 - mse: 8.0448 - val_loss: 6.7680 - val_mae: 1.6946 - val_mse: 6.7680\n",
            "Epoch 84/100\n",
            "101/101 [==============================] - 1s 6ms/step - loss: 7.9266 - mae: 1.8867 - mse: 7.9266 - val_loss: 6.6666 - val_mae: 1.6941 - val_mse: 6.6666\n",
            "Epoch 85/100\n",
            "101/101 [==============================] - 1s 5ms/step - loss: 8.1605 - mae: 1.9095 - mse: 8.1605 - val_loss: 6.6645 - val_mae: 1.6890 - val_mse: 6.6645\n",
            "Epoch 86/100\n",
            "101/101 [==============================] - 0s 4ms/step - loss: 7.9309 - mae: 1.8843 - mse: 7.9309 - val_loss: 6.7333 - val_mae: 1.7106 - val_mse: 6.7333\n",
            "Epoch 87/100\n",
            "101/101 [==============================] - 0s 4ms/step - loss: 8.0273 - mae: 1.9002 - mse: 8.0273 - val_loss: 6.6857 - val_mae: 1.6944 - val_mse: 6.6857\n",
            "Epoch 88/100\n",
            "101/101 [==============================] - 0s 4ms/step - loss: 7.9984 - mae: 1.8930 - mse: 7.9984 - val_loss: 6.7138 - val_mae: 1.7198 - val_mse: 6.7138\n",
            "Epoch 89/100\n",
            "101/101 [==============================] - 0s 4ms/step - loss: 8.0403 - mae: 1.8975 - mse: 8.0403 - val_loss: 6.6677 - val_mae: 1.6984 - val_mse: 6.6677\n",
            "Epoch 90/100\n",
            "101/101 [==============================] - 0s 4ms/step - loss: 8.0217 - mae: 1.8941 - mse: 8.0217 - val_loss: 6.6988 - val_mae: 1.7149 - val_mse: 6.6988\n",
            "Epoch 91/100\n",
            "101/101 [==============================] - 0s 4ms/step - loss: 7.8862 - mae: 1.8872 - mse: 7.8862 - val_loss: 6.6845 - val_mae: 1.6876 - val_mse: 6.6845\n",
            "Epoch 92/100\n",
            "101/101 [==============================] - 0s 4ms/step - loss: 8.0494 - mae: 1.8967 - mse: 8.0494 - val_loss: 6.7576 - val_mae: 1.7008 - val_mse: 6.7576\n",
            "Epoch 93/100\n",
            "101/101 [==============================] - 0s 4ms/step - loss: 8.3001 - mae: 1.9172 - mse: 8.3001 - val_loss: 6.7273 - val_mae: 1.6955 - val_mse: 6.7273\n",
            "Epoch 94/100\n",
            "101/101 [==============================] - 0s 4ms/step - loss: 7.9852 - mae: 1.8959 - mse: 7.9852 - val_loss: 6.6473 - val_mae: 1.6920 - val_mse: 6.6473\n",
            "Epoch 95/100\n",
            "101/101 [==============================] - 0s 4ms/step - loss: 8.1238 - mae: 1.9050 - mse: 8.1238 - val_loss: 6.7344 - val_mae: 1.7094 - val_mse: 6.7344\n",
            "Epoch 96/100\n",
            "101/101 [==============================] - 0s 4ms/step - loss: 8.0807 - mae: 1.9027 - mse: 8.0807 - val_loss: 7.1440 - val_mae: 1.7140 - val_mse: 7.1440\n",
            "Epoch 97/100\n",
            "101/101 [==============================] - 0s 4ms/step - loss: 8.0601 - mae: 1.9061 - mse: 8.0601 - val_loss: 6.6502 - val_mae: 1.6886 - val_mse: 6.6502\n",
            "Epoch 98/100\n",
            "101/101 [==============================] - 0s 3ms/step - loss: 7.9296 - mae: 1.8924 - mse: 7.9296 - val_loss: 6.6563 - val_mae: 1.6993 - val_mse: 6.6563\n",
            "Epoch 99/100\n",
            "101/101 [==============================] - 0s 4ms/step - loss: 7.9205 - mae: 1.8847 - mse: 7.9205 - val_loss: 6.6761 - val_mae: 1.6999 - val_mse: 6.6761\n",
            "Epoch 100/100\n",
            "101/101 [==============================] - 0s 4ms/step - loss: 8.0108 - mae: 1.9034 - mse: 8.0108 - val_loss: 6.7376 - val_mae: 1.7201 - val_mse: 6.7376\n"
          ]
        },
        {
          "output_type": "execute_result",
          "data": {
            "text/plain": [
              "<keras.src.callbacks.History at 0x7c5a431f68f0>"
            ]
          },
          "metadata": {},
          "execution_count": 81
        }
      ]
    },
    {
      "cell_type": "markdown",
      "source": [
        "# learning rate"
      ],
      "metadata": {
        "id": "Q_o-v5hinfTu"
      }
    },
    {
      "cell_type": "code",
      "source": [
        "def build_model(hp):\n",
        "    model = Sequential()\n",
        "\n",
        "    model.add(LSTM(36, activation='relu', return_sequences=False, input_shape=(X_train.shape[1], 1)))\n",
        "    model.add(Dropout(0.1))\n",
        "    model.add(Dense(1, activation='linear'))\n",
        "    optimizer = SGD(learning_rate=hp.Float(name='lr', min_value=0.005, max_value=0.05, step=0.005),momentum=hp.Float(name='mom', min_value=0.0, max_value=0.9, step=0.1))\n",
        "    model.compile(optimizer=optimizer, loss='mean_squared_error', metrics=['mae', 'mse',])\n",
        "\n",
        "    return model\n",
        "\n"
      ],
      "metadata": {
        "id": "clKiQgnGne1I"
      },
      "execution_count": 86,
      "outputs": []
    },
    {
      "cell_type": "code",
      "source": [
        "from sklearn.utils import validation\n",
        "tuner  = kt.RandomSearch(build_model,\n",
        "                         objective='val_mae',\n",
        "                         max_trials=100)\n",
        "\n",
        "tuner.search(X_train,y_train,epochs=5,validation_data=(X_val,y_val))"
      ],
      "metadata": {
        "id": "Nwhfmx6NpvvN",
        "outputId": "0ad7575f-f43a-443a-bc31-ea5907e5160f",
        "colab": {
          "base_uri": "https://localhost:8080/"
        }
      },
      "execution_count": 87,
      "outputs": [
        {
          "output_type": "stream",
          "name": "stdout",
          "text": [
            "Trial 89 Complete [00h 00m 05s]\n",
            "val_mae: 1.743226170539856\n",
            "\n",
            "Best val_mae So Far: 1.7157219648361206\n",
            "Total elapsed time: 00h 07m 58s\n"
          ]
        }
      ]
    },
    {
      "cell_type": "code",
      "source": [
        "tuner.get_best_hyperparameters()[0].values"
      ],
      "metadata": {
        "id": "XdFTdPuusXMg",
        "outputId": "d1154b65-1d73-44de-cc27-a1463f346bac",
        "colab": {
          "base_uri": "https://localhost:8080/"
        }
      },
      "execution_count": 88,
      "outputs": [
        {
          "output_type": "execute_result",
          "data": {
            "text/plain": [
              "{'lr': 0.034999999999999996, 'mom': 0.5}"
            ]
          },
          "metadata": {},
          "execution_count": 88
        }
      ]
    },
    {
      "cell_type": "code",
      "source": [
        "model = tuner.get_best_models(num_models=1)[0]\n",
        "print(model.summary())\n",
        "model.fit(X_train,y_train,batch_size=32,epochs=100,validation_data=(X_val,y_val))"
      ],
      "metadata": {
        "id": "IL_CgWZyseb7",
        "outputId": "9a1aea3b-e806-43ca-afc9-7c4ae8d5564c",
        "colab": {
          "base_uri": "https://localhost:8080/"
        }
      },
      "execution_count": 89,
      "outputs": [
        {
          "output_type": "stream",
          "name": "stdout",
          "text": [
            "Model: \"sequential\"\n",
            "_________________________________________________________________\n",
            " Layer (type)                Output Shape              Param #   \n",
            "=================================================================\n",
            " lstm (LSTM)                 (None, 36)                5472      \n",
            "                                                                 \n",
            " dropout (Dropout)           (None, 36)                0         \n",
            "                                                                 \n",
            " dense (Dense)               (None, 1)                 37        \n",
            "                                                                 \n",
            "=================================================================\n",
            "Total params: 5509 (21.52 KB)\n",
            "Trainable params: 5509 (21.52 KB)\n",
            "Non-trainable params: 0 (0.00 Byte)\n",
            "_________________________________________________________________\n",
            "None\n",
            "Epoch 1/100\n",
            "101/101 [==============================] - 3s 7ms/step - loss: 8.6616 - mae: 1.9773 - mse: 8.6616 - val_loss: 6.9002 - val_mae: 1.7289 - val_mse: 6.9002\n",
            "Epoch 2/100\n",
            "101/101 [==============================] - 0s 4ms/step - loss: 8.7430 - mae: 1.9854 - mse: 8.7430 - val_loss: 7.0521 - val_mae: 1.7889 - val_mse: 7.0521\n",
            "Epoch 3/100\n",
            "101/101 [==============================] - 0s 4ms/step - loss: 8.5232 - mae: 1.9768 - mse: 8.5232 - val_loss: 7.4901 - val_mae: 1.7873 - val_mse: 7.4901\n",
            "Epoch 4/100\n",
            "101/101 [==============================] - 0s 4ms/step - loss: 8.5216 - mae: 1.9519 - mse: 8.5216 - val_loss: 7.8157 - val_mae: 1.8744 - val_mse: 7.8157\n",
            "Epoch 5/100\n",
            "101/101 [==============================] - 0s 4ms/step - loss: 8.4394 - mae: 1.9551 - mse: 8.4394 - val_loss: 6.7940 - val_mae: 1.7117 - val_mse: 6.7940\n",
            "Epoch 6/100\n",
            "101/101 [==============================] - 0s 4ms/step - loss: 8.2374 - mae: 1.9267 - mse: 8.2374 - val_loss: 7.4555 - val_mae: 1.7838 - val_mse: 7.4555\n",
            "Epoch 7/100\n",
            "101/101 [==============================] - 0s 4ms/step - loss: 8.5884 - mae: 1.9542 - mse: 8.5884 - val_loss: 6.9204 - val_mae: 1.6984 - val_mse: 6.9204\n",
            "Epoch 8/100\n",
            "101/101 [==============================] - 0s 4ms/step - loss: 8.3772 - mae: 1.9288 - mse: 8.3772 - val_loss: 7.5169 - val_mae: 1.7348 - val_mse: 7.5169\n",
            "Epoch 9/100\n",
            "101/101 [==============================] - 0s 4ms/step - loss: 8.4872 - mae: 1.9487 - mse: 8.4872 - val_loss: 6.7270 - val_mae: 1.6909 - val_mse: 6.7270\n",
            "Epoch 10/100\n",
            "101/101 [==============================] - 0s 4ms/step - loss: 8.2198 - mae: 1.9178 - mse: 8.2198 - val_loss: 6.7628 - val_mae: 1.7203 - val_mse: 6.7628\n",
            "Epoch 11/100\n",
            "101/101 [==============================] - 0s 4ms/step - loss: 8.2266 - mae: 1.9171 - mse: 8.2266 - val_loss: 6.7047 - val_mae: 1.7215 - val_mse: 6.7047\n",
            "Epoch 12/100\n",
            "101/101 [==============================] - 0s 4ms/step - loss: 8.1397 - mae: 1.9072 - mse: 8.1397 - val_loss: 6.7585 - val_mae: 1.7146 - val_mse: 6.7585\n",
            "Epoch 13/100\n",
            "101/101 [==============================] - 0s 5ms/step - loss: 8.2657 - mae: 1.9250 - mse: 8.2657 - val_loss: 6.6395 - val_mae: 1.6878 - val_mse: 6.6395\n",
            "Epoch 14/100\n",
            "101/101 [==============================] - 0s 4ms/step - loss: 8.1441 - mae: 1.9102 - mse: 8.1441 - val_loss: 6.8207 - val_mae: 1.6906 - val_mse: 6.8207\n",
            "Epoch 15/100\n",
            "101/101 [==============================] - 0s 4ms/step - loss: 8.1798 - mae: 1.9174 - mse: 8.1798 - val_loss: 6.9829 - val_mae: 1.7512 - val_mse: 6.9829\n",
            "Epoch 16/100\n",
            "101/101 [==============================] - 0s 4ms/step - loss: 8.1234 - mae: 1.9141 - mse: 8.1234 - val_loss: 9.1871 - val_mae: 1.8424 - val_mse: 9.1871\n",
            "Epoch 17/100\n",
            "101/101 [==============================] - 0s 4ms/step - loss: 8.3657 - mae: 1.9269 - mse: 8.3657 - val_loss: 7.0642 - val_mae: 1.8079 - val_mse: 7.0642\n",
            "Epoch 18/100\n",
            "101/101 [==============================] - 0s 4ms/step - loss: 8.1583 - mae: 1.9103 - mse: 8.1583 - val_loss: 6.7511 - val_mae: 1.7197 - val_mse: 6.7511\n",
            "Epoch 19/100\n",
            "101/101 [==============================] - 0s 4ms/step - loss: 7.9283 - mae: 1.8846 - mse: 7.9283 - val_loss: 6.6268 - val_mae: 1.6986 - val_mse: 6.6268\n",
            "Epoch 20/100\n",
            "101/101 [==============================] - 0s 4ms/step - loss: 8.2684 - mae: 1.9129 - mse: 8.2684 - val_loss: 6.9783 - val_mae: 1.7343 - val_mse: 6.9783\n",
            "Epoch 21/100\n",
            "101/101 [==============================] - 0s 4ms/step - loss: 8.0271 - mae: 1.9017 - mse: 8.0271 - val_loss: 6.9366 - val_mae: 1.6884 - val_mse: 6.9366\n",
            "Epoch 22/100\n",
            "101/101 [==============================] - 0s 4ms/step - loss: 8.2083 - mae: 1.9217 - mse: 8.2083 - val_loss: 7.0124 - val_mae: 1.6971 - val_mse: 7.0124\n",
            "Epoch 23/100\n",
            "101/101 [==============================] - 1s 5ms/step - loss: 8.1520 - mae: 1.9164 - mse: 8.1520 - val_loss: 6.5101 - val_mae: 1.6779 - val_mse: 6.5101\n",
            "Epoch 24/100\n",
            "101/101 [==============================] - 1s 6ms/step - loss: 8.0033 - mae: 1.8856 - mse: 8.0033 - val_loss: 6.9192 - val_mae: 1.7428 - val_mse: 6.9192\n",
            "Epoch 25/100\n",
            "101/101 [==============================] - 1s 6ms/step - loss: 7.9363 - mae: 1.8923 - mse: 7.9363 - val_loss: 6.9329 - val_mae: 1.7817 - val_mse: 6.9329\n",
            "Epoch 26/100\n",
            "101/101 [==============================] - 1s 6ms/step - loss: 8.0665 - mae: 1.9045 - mse: 8.0665 - val_loss: 6.6411 - val_mae: 1.6766 - val_mse: 6.6411\n",
            "Epoch 27/100\n",
            "101/101 [==============================] - 1s 7ms/step - loss: 7.8919 - mae: 1.8786 - mse: 7.8919 - val_loss: 8.7028 - val_mae: 1.9198 - val_mse: 8.7028\n",
            "Epoch 28/100\n",
            "101/101 [==============================] - 1s 6ms/step - loss: 8.1835 - mae: 1.9160 - mse: 8.1835 - val_loss: 8.0465 - val_mae: 1.8764 - val_mse: 8.0465\n",
            "Epoch 29/100\n",
            "101/101 [==============================] - 1s 6ms/step - loss: 8.2521 - mae: 1.9238 - mse: 8.2521 - val_loss: 7.6330 - val_mae: 1.8218 - val_mse: 7.6330\n",
            "Epoch 30/100\n",
            "101/101 [==============================] - 1s 7ms/step - loss: 8.0906 - mae: 1.9197 - mse: 8.0906 - val_loss: 6.5636 - val_mae: 1.6553 - val_mse: 6.5636\n",
            "Epoch 31/100\n",
            "101/101 [==============================] - 1s 5ms/step - loss: 8.1034 - mae: 1.9065 - mse: 8.1034 - val_loss: 7.9981 - val_mae: 1.8998 - val_mse: 7.9981\n",
            "Epoch 32/100\n",
            "101/101 [==============================] - 0s 4ms/step - loss: 7.9988 - mae: 1.9024 - mse: 7.9988 - val_loss: 7.8152 - val_mae: 1.8199 - val_mse: 7.8152\n",
            "Epoch 33/100\n",
            "101/101 [==============================] - 0s 4ms/step - loss: 7.8866 - mae: 1.8854 - mse: 7.8866 - val_loss: 6.6990 - val_mae: 1.7211 - val_mse: 6.6990\n",
            "Epoch 34/100\n",
            "101/101 [==============================] - 0s 4ms/step - loss: 7.9314 - mae: 1.8951 - mse: 7.9314 - val_loss: 7.5413 - val_mae: 1.8080 - val_mse: 7.5413\n",
            "Epoch 35/100\n",
            "101/101 [==============================] - 0s 4ms/step - loss: 7.8902 - mae: 1.8821 - mse: 7.8902 - val_loss: 6.9109 - val_mae: 1.7573 - val_mse: 6.9109\n",
            "Epoch 36/100\n",
            "101/101 [==============================] - 0s 4ms/step - loss: 8.1205 - mae: 1.9012 - mse: 8.1205 - val_loss: 6.6383 - val_mae: 1.7059 - val_mse: 6.6383\n",
            "Epoch 37/100\n",
            "101/101 [==============================] - 0s 4ms/step - loss: 8.0257 - mae: 1.9100 - mse: 8.0257 - val_loss: 7.2470 - val_mae: 1.7462 - val_mse: 7.2470\n",
            "Epoch 38/100\n",
            "101/101 [==============================] - 0s 4ms/step - loss: 7.8839 - mae: 1.8905 - mse: 7.8839 - val_loss: 7.1606 - val_mae: 1.7364 - val_mse: 7.1606\n",
            "Epoch 39/100\n",
            "101/101 [==============================] - 0s 4ms/step - loss: 8.0813 - mae: 1.9025 - mse: 8.0813 - val_loss: 6.6516 - val_mae: 1.7124 - val_mse: 6.6516\n",
            "Epoch 40/100\n",
            "101/101 [==============================] - 0s 4ms/step - loss: 7.9729 - mae: 1.9053 - mse: 7.9729 - val_loss: 7.2491 - val_mae: 1.7924 - val_mse: 7.2491\n",
            "Epoch 41/100\n",
            "101/101 [==============================] - 0s 4ms/step - loss: 7.8895 - mae: 1.8853 - mse: 7.8895 - val_loss: 6.4468 - val_mae: 1.6574 - val_mse: 6.4468\n",
            "Epoch 42/100\n",
            "101/101 [==============================] - 0s 4ms/step - loss: 8.0913 - mae: 1.9095 - mse: 8.0913 - val_loss: 6.7579 - val_mae: 1.7139 - val_mse: 6.7579\n",
            "Epoch 43/100\n",
            "101/101 [==============================] - 0s 4ms/step - loss: 7.9486 - mae: 1.8976 - mse: 7.9486 - val_loss: 7.8848 - val_mae: 1.8206 - val_mse: 7.8848\n",
            "Epoch 44/100\n",
            "101/101 [==============================] - 0s 4ms/step - loss: 7.9315 - mae: 1.8913 - mse: 7.9315 - val_loss: 6.4765 - val_mae: 1.6794 - val_mse: 6.4765\n",
            "Epoch 45/100\n",
            "101/101 [==============================] - 0s 4ms/step - loss: 7.8571 - mae: 1.8818 - mse: 7.8571 - val_loss: 7.2312 - val_mae: 1.6978 - val_mse: 7.2312\n",
            "Epoch 46/100\n",
            "101/101 [==============================] - 0s 4ms/step - loss: 7.9698 - mae: 1.8990 - mse: 7.9698 - val_loss: 7.1445 - val_mae: 1.7189 - val_mse: 7.1445\n",
            "Epoch 47/100\n",
            "101/101 [==============================] - 0s 4ms/step - loss: 7.9502 - mae: 1.8951 - mse: 7.9502 - val_loss: 6.5667 - val_mae: 1.7001 - val_mse: 6.5667\n",
            "Epoch 48/100\n",
            "101/101 [==============================] - 0s 5ms/step - loss: 7.9452 - mae: 1.8926 - mse: 7.9452 - val_loss: 7.4571 - val_mae: 1.8074 - val_mse: 7.4571\n",
            "Epoch 49/100\n",
            "101/101 [==============================] - 0s 4ms/step - loss: 7.8185 - mae: 1.8745 - mse: 7.8185 - val_loss: 6.4065 - val_mae: 1.6682 - val_mse: 6.4065\n",
            "Epoch 50/100\n",
            "101/101 [==============================] - 0s 4ms/step - loss: 7.8704 - mae: 1.8800 - mse: 7.8704 - val_loss: 6.6223 - val_mae: 1.6792 - val_mse: 6.6223\n",
            "Epoch 51/100\n",
            "101/101 [==============================] - 0s 4ms/step - loss: 7.8037 - mae: 1.8669 - mse: 7.8037 - val_loss: 6.4515 - val_mae: 1.6811 - val_mse: 6.4515\n",
            "Epoch 52/100\n",
            "101/101 [==============================] - 0s 4ms/step - loss: 8.0091 - mae: 1.9005 - mse: 8.0091 - val_loss: 6.3806 - val_mae: 1.6605 - val_mse: 6.3806\n",
            "Epoch 53/100\n",
            "101/101 [==============================] - 0s 4ms/step - loss: 7.6774 - mae: 1.8552 - mse: 7.6774 - val_loss: 6.3953 - val_mae: 1.6581 - val_mse: 6.3953\n",
            "Epoch 54/100\n",
            "101/101 [==============================] - 0s 4ms/step - loss: 7.7359 - mae: 1.8673 - mse: 7.7359 - val_loss: 6.3161 - val_mae: 1.6363 - val_mse: 6.3161\n",
            "Epoch 55/100\n",
            "101/101 [==============================] - 0s 4ms/step - loss: 7.8236 - mae: 1.8823 - mse: 7.8236 - val_loss: 6.3379 - val_mae: 1.6196 - val_mse: 6.3379\n",
            "Epoch 56/100\n",
            "101/101 [==============================] - 1s 6ms/step - loss: 7.8272 - mae: 1.8732 - mse: 7.8272 - val_loss: 6.4634 - val_mae: 1.6906 - val_mse: 6.4634\n",
            "Epoch 57/100\n",
            "101/101 [==============================] - 1s 6ms/step - loss: 7.9626 - mae: 1.8937 - mse: 7.9626 - val_loss: 6.6262 - val_mae: 1.7691 - val_mse: 6.6262\n",
            "Epoch 58/100\n",
            "101/101 [==============================] - 1s 6ms/step - loss: 7.9061 - mae: 1.8911 - mse: 7.9061 - val_loss: 6.3468 - val_mae: 1.6379 - val_mse: 6.3468\n",
            "Epoch 59/100\n",
            "101/101 [==============================] - 1s 6ms/step - loss: 7.7578 - mae: 1.8645 - mse: 7.7578 - val_loss: 6.4363 - val_mae: 1.6861 - val_mse: 6.4363\n",
            "Epoch 60/100\n",
            "101/101 [==============================] - 1s 7ms/step - loss: 7.8546 - mae: 1.8835 - mse: 7.8546 - val_loss: 6.9037 - val_mae: 1.6961 - val_mse: 6.9037\n",
            "Epoch 61/100\n",
            "101/101 [==============================] - 1s 6ms/step - loss: 7.7622 - mae: 1.8638 - mse: 7.7622 - val_loss: 6.4839 - val_mae: 1.6658 - val_mse: 6.4839\n",
            "Epoch 62/100\n",
            "101/101 [==============================] - 1s 6ms/step - loss: 7.8505 - mae: 1.8835 - mse: 7.8505 - val_loss: 7.0961 - val_mae: 1.7465 - val_mse: 7.0961\n",
            "Epoch 63/100\n",
            "101/101 [==============================] - 1s 6ms/step - loss: 7.9142 - mae: 1.8791 - mse: 7.9142 - val_loss: 6.4364 - val_mae: 1.6772 - val_mse: 6.4364\n",
            "Epoch 64/100\n",
            "101/101 [==============================] - 1s 5ms/step - loss: 7.8600 - mae: 1.8851 - mse: 7.8600 - val_loss: 6.3266 - val_mae: 1.6482 - val_mse: 6.3266\n",
            "Epoch 65/100\n",
            "101/101 [==============================] - 0s 4ms/step - loss: 7.7472 - mae: 1.8639 - mse: 7.7472 - val_loss: 6.9252 - val_mae: 1.7926 - val_mse: 6.9252\n",
            "Epoch 66/100\n",
            "101/101 [==============================] - 0s 4ms/step - loss: 7.9164 - mae: 1.8842 - mse: 7.9164 - val_loss: 6.5697 - val_mae: 1.7236 - val_mse: 6.5697\n",
            "Epoch 67/100\n",
            "101/101 [==============================] - 0s 4ms/step - loss: 7.8021 - mae: 1.8859 - mse: 7.8021 - val_loss: 6.9021 - val_mae: 1.6962 - val_mse: 6.9021\n",
            "Epoch 68/100\n",
            "101/101 [==============================] - 0s 4ms/step - loss: 7.9549 - mae: 1.8902 - mse: 7.9549 - val_loss: 6.4319 - val_mae: 1.6707 - val_mse: 6.4319\n",
            "Epoch 69/100\n",
            "101/101 [==============================] - 0s 4ms/step - loss: 7.8425 - mae: 1.8722 - mse: 7.8425 - val_loss: 6.3596 - val_mae: 1.6601 - val_mse: 6.3596\n",
            "Epoch 70/100\n",
            "101/101 [==============================] - 0s 4ms/step - loss: 7.7296 - mae: 1.8655 - mse: 7.7296 - val_loss: 6.4024 - val_mae: 1.6802 - val_mse: 6.4024\n",
            "Epoch 71/100\n",
            "101/101 [==============================] - 0s 4ms/step - loss: 7.8663 - mae: 1.8769 - mse: 7.8663 - val_loss: 6.5172 - val_mae: 1.6709 - val_mse: 6.5172\n",
            "Epoch 72/100\n",
            "101/101 [==============================] - 0s 4ms/step - loss: 7.7683 - mae: 1.8586 - mse: 7.7683 - val_loss: 6.7732 - val_mae: 1.6935 - val_mse: 6.7732\n",
            "Epoch 73/100\n",
            "101/101 [==============================] - 0s 4ms/step - loss: 7.7406 - mae: 1.8712 - mse: 7.7406 - val_loss: 6.3856 - val_mae: 1.6679 - val_mse: 6.3856\n",
            "Epoch 74/100\n",
            "101/101 [==============================] - 0s 5ms/step - loss: 7.6987 - mae: 1.8762 - mse: 7.6987 - val_loss: 6.4787 - val_mae: 1.6837 - val_mse: 6.4787\n",
            "Epoch 75/100\n",
            "101/101 [==============================] - 0s 4ms/step - loss: 7.8754 - mae: 1.8749 - mse: 7.8754 - val_loss: 6.4269 - val_mae: 1.6911 - val_mse: 6.4269\n",
            "Epoch 76/100\n",
            "101/101 [==============================] - 0s 3ms/step - loss: 7.9033 - mae: 1.8813 - mse: 7.9033 - val_loss: 7.0730 - val_mae: 1.7660 - val_mse: 7.0730\n",
            "Epoch 77/100\n",
            "101/101 [==============================] - 0s 4ms/step - loss: 7.7267 - mae: 1.8767 - mse: 7.7267 - val_loss: 6.3965 - val_mae: 1.6745 - val_mse: 6.3965\n",
            "Epoch 78/100\n",
            "101/101 [==============================] - 0s 4ms/step - loss: 7.9278 - mae: 1.8824 - mse: 7.9278 - val_loss: 7.3310 - val_mae: 1.7708 - val_mse: 7.3310\n",
            "Epoch 79/100\n",
            "101/101 [==============================] - 0s 4ms/step - loss: 7.7053 - mae: 1.8585 - mse: 7.7053 - val_loss: 6.7522 - val_mae: 1.6977 - val_mse: 6.7522\n",
            "Epoch 80/100\n",
            "101/101 [==============================] - 0s 4ms/step - loss: 7.8858 - mae: 1.8831 - mse: 7.8858 - val_loss: 6.3481 - val_mae: 1.6592 - val_mse: 6.3481\n",
            "Epoch 81/100\n",
            "101/101 [==============================] - 0s 4ms/step - loss: 7.6869 - mae: 1.8618 - mse: 7.6869 - val_loss: 6.6276 - val_mae: 1.7128 - val_mse: 6.6276\n",
            "Epoch 82/100\n",
            "101/101 [==============================] - 0s 4ms/step - loss: 7.7582 - mae: 1.8793 - mse: 7.7582 - val_loss: 6.6352 - val_mae: 1.7716 - val_mse: 6.6352\n",
            "Epoch 83/100\n",
            "101/101 [==============================] - 0s 4ms/step - loss: 7.8231 - mae: 1.8828 - mse: 7.8231 - val_loss: 6.3414 - val_mae: 1.6353 - val_mse: 6.3414\n",
            "Epoch 84/100\n",
            "101/101 [==============================] - 0s 4ms/step - loss: 7.8458 - mae: 1.8804 - mse: 7.8458 - val_loss: 6.4977 - val_mae: 1.6522 - val_mse: 6.4977\n",
            "Epoch 85/100\n",
            "101/101 [==============================] - 0s 4ms/step - loss: 7.8507 - mae: 1.8781 - mse: 7.8507 - val_loss: 6.4293 - val_mae: 1.6436 - val_mse: 6.4293\n",
            "Epoch 86/100\n",
            "101/101 [==============================] - 0s 4ms/step - loss: 7.8474 - mae: 1.8774 - mse: 7.8474 - val_loss: 6.2895 - val_mae: 1.6426 - val_mse: 6.2895\n",
            "Epoch 87/100\n",
            "101/101 [==============================] - 0s 4ms/step - loss: 7.9109 - mae: 1.8922 - mse: 7.9109 - val_loss: 6.3955 - val_mae: 1.6400 - val_mse: 6.3955\n",
            "Epoch 88/100\n",
            "101/101 [==============================] - 0s 5ms/step - loss: 7.6499 - mae: 1.8596 - mse: 7.6499 - val_loss: 7.3819 - val_mae: 1.7739 - val_mse: 7.3819\n",
            "Epoch 89/100\n",
            "101/101 [==============================] - 1s 7ms/step - loss: 7.7112 - mae: 1.8705 - mse: 7.7112 - val_loss: 6.4607 - val_mae: 1.6658 - val_mse: 6.4607\n",
            "Epoch 90/100\n",
            "101/101 [==============================] - 1s 6ms/step - loss: 7.7381 - mae: 1.8583 - mse: 7.7381 - val_loss: 6.4335 - val_mae: 1.6448 - val_mse: 6.4335\n",
            "Epoch 91/100\n",
            "101/101 [==============================] - 1s 6ms/step - loss: 7.7006 - mae: 1.8588 - mse: 7.7006 - val_loss: 6.3093 - val_mae: 1.6595 - val_mse: 6.3093\n",
            "Epoch 92/100\n",
            "101/101 [==============================] - 1s 6ms/step - loss: 7.9210 - mae: 1.8840 - mse: 7.9210 - val_loss: 6.4314 - val_mae: 1.7033 - val_mse: 6.4314\n",
            "Epoch 93/100\n",
            "101/101 [==============================] - 1s 6ms/step - loss: 7.8059 - mae: 1.8881 - mse: 7.8059 - val_loss: 6.4463 - val_mae: 1.6916 - val_mse: 6.4463\n",
            "Epoch 94/100\n",
            "101/101 [==============================] - 1s 6ms/step - loss: 7.9136 - mae: 1.8862 - mse: 7.9136 - val_loss: 6.3639 - val_mae: 1.6741 - val_mse: 6.3639\n",
            "Epoch 95/100\n",
            "101/101 [==============================] - 1s 6ms/step - loss: 7.8351 - mae: 1.8686 - mse: 7.8351 - val_loss: 6.2676 - val_mae: 1.6345 - val_mse: 6.2676\n",
            "Epoch 96/100\n",
            "101/101 [==============================] - 1s 6ms/step - loss: 7.6237 - mae: 1.8548 - mse: 7.6237 - val_loss: 6.6649 - val_mae: 1.6631 - val_mse: 6.6649\n",
            "Epoch 97/100\n",
            "101/101 [==============================] - 0s 5ms/step - loss: 7.8918 - mae: 1.8924 - mse: 7.8918 - val_loss: 6.3037 - val_mae: 1.6544 - val_mse: 6.3037\n",
            "Epoch 98/100\n",
            "101/101 [==============================] - 0s 4ms/step - loss: 7.7798 - mae: 1.8735 - mse: 7.7798 - val_loss: 6.2910 - val_mae: 1.6465 - val_mse: 6.2910\n",
            "Epoch 99/100\n",
            "101/101 [==============================] - 0s 4ms/step - loss: 7.7683 - mae: 1.8740 - mse: 7.7683 - val_loss: 6.4476 - val_mae: 1.6377 - val_mse: 6.4476\n",
            "Epoch 100/100\n",
            "101/101 [==============================] - 0s 4ms/step - loss: 7.7233 - mae: 1.8673 - mse: 7.7233 - val_loss: 6.3959 - val_mae: 1.6630 - val_mse: 6.3959\n"
          ]
        },
        {
          "output_type": "execute_result",
          "data": {
            "text/plain": [
              "<keras.src.callbacks.History at 0x7c5a437b2080>"
            ]
          },
          "metadata": {},
          "execution_count": 89
        }
      ]
    },
    {
      "cell_type": "markdown",
      "source": [
        "#number of layers"
      ],
      "metadata": {
        "id": "6QzRcdk0tr95"
      }
    },
    {
      "cell_type": "code",
      "source": [
        "def build_model(hp):\n",
        "    model = Sequential()\n",
        "\n",
        "    for i in range(hp.Int('num_layers',min_value=1,max_value=5)):\n",
        "      model.add(LSTM(36, activation='relu', return_sequences=True, input_shape=(X_train.shape[1], 1)))\n",
        "\n",
        "    model.add(Dropout(0.1))\n",
        "    model.add(Dense(1, activation='linear'))\n",
        "    optimizer = SGD(learning_rate=0.034999999999999996,momentum=0.5)\n",
        "    model.compile(optimizer=optimizer, loss='mean_squared_error', metrics=['mae', 'mse',])\n",
        "\n",
        "    return model\n",
        "\n"
      ],
      "metadata": {
        "id": "D1PBATJDtwcm"
      },
      "execution_count": 95,
      "outputs": []
    },
    {
      "cell_type": "code",
      "source": [
        "from sklearn.utils import validation\n",
        "tuner  = kt.RandomSearch(build_model,\n",
        "                         objective='val_mae',\n",
        "                         max_trials=100)\n",
        "\n",
        "tuner.search(X_train,y_train,epochs=5,validation_data=(X_val,y_val))"
      ],
      "metadata": {
        "id": "u_BvZk2kuz2s",
        "outputId": "9f1e8514-5fd1-4e72-b1cf-8b1c04a594d5",
        "colab": {
          "base_uri": "https://localhost:8080/"
        }
      },
      "execution_count": 96,
      "outputs": [
        {
          "output_type": "stream",
          "name": "stdout",
          "text": [
            "Trial 5 Complete [00h 00m 06s]\n",
            "val_mae: 4.357283115386963\n",
            "\n",
            "Best val_mae So Far: 4.258514881134033\n",
            "Total elapsed time: 00h 00m 56s\n"
          ]
        }
      ]
    },
    {
      "cell_type": "code",
      "source": [
        "tuner.get_best_hyperparameters()[0].values"
      ],
      "metadata": {
        "id": "4tkjMf_1vP0_",
        "outputId": "0a6b4986-41d1-455f-efa7-cc7394a532f4",
        "colab": {
          "base_uri": "https://localhost:8080/"
        }
      },
      "execution_count": 97,
      "outputs": [
        {
          "output_type": "execute_result",
          "data": {
            "text/plain": [
              "{'num_layers': 5}"
            ]
          },
          "metadata": {},
          "execution_count": 97
        }
      ]
    },
    {
      "cell_type": "code",
      "source": [
        "model = tuner.get_best_models(num_models=1)[0]\n",
        "print(model.summary())\n",
        "model.fit(X_train,y_train,batch_size=32,epochs=100,validation_data=(X_val,y_val))"
      ],
      "metadata": {
        "id": "2_NatY3xvXo7",
        "outputId": "9921a046-4e4d-4c8e-cccb-54892ff825d6",
        "colab": {
          "base_uri": "https://localhost:8080/"
        }
      },
      "execution_count": 98,
      "outputs": [
        {
          "output_type": "stream",
          "name": "stdout",
          "text": [
            "Model: \"sequential\"\n",
            "_________________________________________________________________\n",
            " Layer (type)                Output Shape              Param #   \n",
            "=================================================================\n",
            " lstm (LSTM)                 (None, 2, 36)             5472      \n",
            "                                                                 \n",
            " lstm_1 (LSTM)               (None, 2, 36)             10512     \n",
            "                                                                 \n",
            " lstm_2 (LSTM)               (None, 2, 36)             10512     \n",
            "                                                                 \n",
            " lstm_3 (LSTM)               (None, 2, 36)             10512     \n",
            "                                                                 \n",
            " lstm_4 (LSTM)               (None, 2, 36)             10512     \n",
            "                                                                 \n",
            " dropout (Dropout)           (None, 2, 36)             0         \n",
            "                                                                 \n",
            " dense (Dense)               (None, 2, 1)              37        \n",
            "                                                                 \n",
            "=================================================================\n",
            "Total params: 47557 (185.77 KB)\n",
            "Trainable params: 47557 (185.77 KB)\n",
            "Non-trainable params: 0 (0.00 Byte)\n",
            "_________________________________________________________________\n",
            "None\n",
            "Epoch 1/100\n",
            "101/101 [==============================] - 10s 25ms/step - loss: 29.7042 - mae: 4.4932 - mse: 29.7042 - val_loss: 28.5282 - val_mae: 4.3830 - val_mse: 28.5282\n",
            "Epoch 2/100\n",
            "101/101 [==============================] - 1s 10ms/step - loss: 29.6186 - mae: 4.5084 - mse: 29.6186 - val_loss: 28.4944 - val_mae: 4.3406 - val_mse: 28.4944\n",
            "Epoch 3/100\n",
            "101/101 [==============================] - 1s 10ms/step - loss: 29.6475 - mae: 4.4954 - mse: 29.6475 - val_loss: 28.5516 - val_mae: 4.4035 - val_mse: 28.5516\n",
            "Epoch 4/100\n",
            "101/101 [==============================] - 1s 10ms/step - loss: 29.6037 - mae: 4.5107 - mse: 29.6037 - val_loss: 28.5376 - val_mae: 4.2426 - val_mse: 28.5376\n",
            "Epoch 5/100\n",
            "101/101 [==============================] - 1s 10ms/step - loss: 29.6427 - mae: 4.4922 - mse: 29.6427 - val_loss: 28.6482 - val_mae: 4.4579 - val_mse: 28.6482\n",
            "Epoch 6/100\n",
            "101/101 [==============================] - 1s 10ms/step - loss: 29.6179 - mae: 4.5159 - mse: 29.6179 - val_loss: 28.5336 - val_mae: 4.3903 - val_mse: 28.5336\n",
            "Epoch 7/100\n",
            "101/101 [==============================] - 1s 10ms/step - loss: 29.6364 - mae: 4.5145 - mse: 29.6364 - val_loss: 28.5239 - val_mae: 4.2533 - val_mse: 28.5239\n",
            "Epoch 8/100\n",
            "101/101 [==============================] - 1s 10ms/step - loss: 29.6561 - mae: 4.4949 - mse: 29.6561 - val_loss: 28.5197 - val_mae: 4.3778 - val_mse: 28.5197\n",
            "Epoch 9/100\n",
            "101/101 [==============================] - 1s 10ms/step - loss: 29.5936 - mae: 4.5062 - mse: 29.5936 - val_loss: 28.4889 - val_mae: 4.3273 - val_mse: 28.4889\n",
            "Epoch 10/100\n",
            "101/101 [==============================] - 1s 10ms/step - loss: 29.6734 - mae: 4.5165 - mse: 29.6734 - val_loss: 28.5368 - val_mae: 4.2429 - val_mse: 28.5368\n",
            "Epoch 11/100\n",
            "101/101 [==============================] - 2s 16ms/step - loss: 29.6159 - mae: 4.4794 - mse: 29.6159 - val_loss: 28.6103 - val_mae: 4.4393 - val_mse: 28.6103\n",
            "Epoch 12/100\n",
            "101/101 [==============================] - 2s 17ms/step - loss: 29.6501 - mae: 4.5130 - mse: 29.6501 - val_loss: 28.4926 - val_mae: 4.3397 - val_mse: 28.4926\n",
            "Epoch 13/100\n",
            "101/101 [==============================] - 2s 16ms/step - loss: 29.6394 - mae: 4.5017 - mse: 29.6394 - val_loss: 28.5216 - val_mae: 4.3797 - val_mse: 28.5216\n",
            "Epoch 14/100\n",
            "101/101 [==============================] - 1s 12ms/step - loss: 29.6279 - mae: 4.4983 - mse: 29.6279 - val_loss: 28.7421 - val_mae: 4.4972 - val_mse: 28.7421\n",
            "Epoch 15/100\n",
            "101/101 [==============================] - 1s 11ms/step - loss: 29.6161 - mae: 4.5132 - mse: 29.6161 - val_loss: 28.4973 - val_mae: 4.3494 - val_mse: 28.4973\n",
            "Epoch 16/100\n",
            "101/101 [==============================] - 1s 10ms/step - loss: 29.6306 - mae: 4.4875 - mse: 29.6306 - val_loss: 29.0030 - val_mae: 4.5785 - val_mse: 29.0030\n",
            "Epoch 17/100\n",
            "101/101 [==============================] - 1s 10ms/step - loss: 29.5868 - mae: 4.5015 - mse: 29.5868 - val_loss: 28.7722 - val_mae: 4.5082 - val_mse: 28.7722\n",
            "Epoch 18/100\n",
            "101/101 [==============================] - 1s 10ms/step - loss: 29.6737 - mae: 4.5194 - mse: 29.6737 - val_loss: 28.5428 - val_mae: 4.3978 - val_mse: 28.5428\n",
            "Epoch 19/100\n",
            "101/101 [==============================] - 1s 10ms/step - loss: 29.6343 - mae: 4.5091 - mse: 29.6343 - val_loss: 28.4892 - val_mae: 4.3290 - val_mse: 28.4892\n",
            "Epoch 20/100\n",
            "101/101 [==============================] - 1s 10ms/step - loss: 29.6205 - mae: 4.4975 - mse: 29.6205 - val_loss: 28.5683 - val_mae: 4.4155 - val_mse: 28.5683\n",
            "Epoch 21/100\n",
            "101/101 [==============================] - 1s 10ms/step - loss: 29.5622 - mae: 4.5048 - mse: 29.5622 - val_loss: 28.6291 - val_mae: 4.4490 - val_mse: 28.6291\n",
            "Epoch 22/100\n",
            "101/101 [==============================] - 1s 10ms/step - loss: 29.6481 - mae: 4.5093 - mse: 29.6481 - val_loss: 28.5496 - val_mae: 4.4029 - val_mse: 28.5496\n",
            "Epoch 23/100\n",
            "101/101 [==============================] - 1s 12ms/step - loss: 29.6673 - mae: 4.5047 - mse: 29.6673 - val_loss: 28.6813 - val_mae: 4.4729 - val_mse: 28.6813\n",
            "Epoch 24/100\n",
            "101/101 [==============================] - 2s 16ms/step - loss: 29.6511 - mae: 4.5120 - mse: 29.6511 - val_loss: 28.6020 - val_mae: 4.4349 - val_mse: 28.6020\n",
            "Epoch 25/100\n",
            "101/101 [==============================] - 2s 16ms/step - loss: 29.6175 - mae: 4.4924 - mse: 29.6175 - val_loss: 28.8287 - val_mae: 4.5273 - val_mse: 28.8287\n",
            "Epoch 26/100\n",
            "101/101 [==============================] - 2s 17ms/step - loss: 29.6784 - mae: 4.5177 - mse: 29.6784 - val_loss: 28.5969 - val_mae: 4.4321 - val_mse: 28.5969\n",
            "Epoch 27/100\n",
            "101/101 [==============================] - 1s 10ms/step - loss: 29.5813 - mae: 4.5179 - mse: 29.5813 - val_loss: 28.5093 - val_mae: 4.2678 - val_mse: 28.5093\n",
            "Epoch 28/100\n",
            "101/101 [==============================] - 1s 10ms/step - loss: 29.6629 - mae: 4.4861 - mse: 29.6629 - val_loss: 28.7241 - val_mae: 4.4903 - val_mse: 28.7241\n",
            "Epoch 29/100\n",
            "101/101 [==============================] - 1s 10ms/step - loss: 29.6123 - mae: 4.5198 - mse: 29.6123 - val_loss: 28.4908 - val_mae: 4.2983 - val_mse: 28.4908\n",
            "Epoch 30/100\n",
            "101/101 [==============================] - 1s 10ms/step - loss: 29.6678 - mae: 4.4887 - mse: 29.6678 - val_loss: 28.9305 - val_mae: 4.5581 - val_mse: 28.9305\n",
            "Epoch 31/100\n",
            "101/101 [==============================] - 1s 10ms/step - loss: 29.6546 - mae: 4.5258 - mse: 29.6546 - val_loss: 28.5767 - val_mae: 4.4207 - val_mse: 28.5767\n",
            "Epoch 32/100\n",
            "101/101 [==============================] - 1s 10ms/step - loss: 29.6210 - mae: 4.4963 - mse: 29.6210 - val_loss: 28.7466 - val_mae: 4.4989 - val_mse: 28.7466\n",
            "Epoch 33/100\n",
            "101/101 [==============================] - 1s 11ms/step - loss: 29.5851 - mae: 4.4873 - mse: 29.5851 - val_loss: 29.0396 - val_mae: 4.5883 - val_mse: 29.0396\n",
            "Epoch 34/100\n",
            "101/101 [==============================] - 1s 10ms/step - loss: 29.5688 - mae: 4.5103 - mse: 29.5688 - val_loss: 28.5304 - val_mae: 4.3878 - val_mse: 28.5304\n",
            "Epoch 35/100\n",
            "101/101 [==============================] - 1s 10ms/step - loss: 29.6021 - mae: 4.5134 - mse: 29.6021 - val_loss: 28.5164 - val_mae: 4.2602 - val_mse: 28.5164\n",
            "Epoch 36/100\n",
            "101/101 [==============================] - 1s 13ms/step - loss: 29.6903 - mae: 4.5031 - mse: 29.6903 - val_loss: 28.5025 - val_mae: 4.3576 - val_mse: 28.5025\n",
            "Epoch 37/100\n",
            "101/101 [==============================] - 2s 16ms/step - loss: 29.6468 - mae: 4.4923 - mse: 29.6468 - val_loss: 28.8721 - val_mae: 4.5409 - val_mse: 28.8721\n",
            "Epoch 38/100\n",
            "101/101 [==============================] - 2s 16ms/step - loss: 29.6263 - mae: 4.5079 - mse: 29.6263 - val_loss: 28.9071 - val_mae: 4.5514 - val_mse: 28.9071\n",
            "Epoch 39/100\n",
            "101/101 [==============================] - 1s 15ms/step - loss: 29.6059 - mae: 4.5088 - mse: 29.6059 - val_loss: 28.7444 - val_mae: 4.4981 - val_mse: 28.7444\n",
            "Epoch 40/100\n",
            "101/101 [==============================] - 1s 10ms/step - loss: 29.6074 - mae: 4.5137 - mse: 29.6074 - val_loss: 28.5258 - val_mae: 4.3837 - val_mse: 28.5258\n",
            "Epoch 41/100\n",
            "101/101 [==============================] - 1s 10ms/step - loss: 29.6242 - mae: 4.4957 - mse: 29.6242 - val_loss: 28.8680 - val_mae: 4.5397 - val_mse: 28.8680\n",
            "Epoch 42/100\n",
            "101/101 [==============================] - 1s 10ms/step - loss: 29.6565 - mae: 4.5206 - mse: 29.6565 - val_loss: 28.4908 - val_mae: 4.3349 - val_mse: 28.4908\n",
            "Epoch 43/100\n",
            "101/101 [==============================] - 1s 10ms/step - loss: 29.6099 - mae: 4.4956 - mse: 29.6099 - val_loss: 28.6787 - val_mae: 4.4718 - val_mse: 28.6787\n",
            "Epoch 44/100\n",
            "101/101 [==============================] - 1s 10ms/step - loss: 29.6437 - mae: 4.5153 - mse: 29.6437 - val_loss: 28.5972 - val_mae: 4.4323 - val_mse: 28.5972\n",
            "Epoch 45/100\n",
            "101/101 [==============================] - 1s 10ms/step - loss: 29.6259 - mae: 4.5034 - mse: 29.6259 - val_loss: 28.5253 - val_mae: 4.3832 - val_mse: 28.5253\n",
            "Epoch 46/100\n",
            "101/101 [==============================] - 1s 10ms/step - loss: 29.6116 - mae: 4.5110 - mse: 29.6116 - val_loss: 28.5825 - val_mae: 4.2145 - val_mse: 28.5825\n",
            "Epoch 47/100\n",
            "101/101 [==============================] - 1s 10ms/step - loss: 29.6427 - mae: 4.4867 - mse: 29.6427 - val_loss: 28.6399 - val_mae: 4.4542 - val_mse: 28.6399\n",
            "Epoch 48/100\n",
            "101/101 [==============================] - 1s 10ms/step - loss: 29.6214 - mae: 4.5121 - mse: 29.6214 - val_loss: 28.5323 - val_mae: 4.3894 - val_mse: 28.5323\n",
            "Epoch 49/100\n",
            "101/101 [==============================] - 1s 15ms/step - loss: 29.6931 - mae: 4.5047 - mse: 29.6931 - val_loss: 28.7145 - val_mae: 4.4866 - val_mse: 28.7145\n",
            "Epoch 50/100\n",
            "101/101 [==============================] - 2s 17ms/step - loss: 29.6128 - mae: 4.5131 - mse: 29.6128 - val_loss: 28.5036 - val_mae: 4.3592 - val_mse: 28.5036\n",
            "Epoch 51/100\n",
            "101/101 [==============================] - 2s 17ms/step - loss: 29.6195 - mae: 4.4999 - mse: 29.6195 - val_loss: 28.5984 - val_mae: 4.4330 - val_mse: 28.5984\n",
            "Epoch 52/100\n",
            "101/101 [==============================] - 1s 13ms/step - loss: 29.6459 - mae: 4.5077 - mse: 29.6459 - val_loss: 28.7785 - val_mae: 4.5104 - val_mse: 28.7785\n",
            "Epoch 53/100\n",
            "101/101 [==============================] - 1s 10ms/step - loss: 29.5902 - mae: 4.5017 - mse: 29.5902 - val_loss: 28.8750 - val_mae: 4.5418 - val_mse: 28.8750\n",
            "Epoch 54/100\n",
            "101/101 [==============================] - 1s 11ms/step - loss: 29.6454 - mae: 4.5062 - mse: 29.6454 - val_loss: 28.7786 - val_mae: 4.5104 - val_mse: 28.7786\n",
            "Epoch 55/100\n",
            "101/101 [==============================] - 1s 10ms/step - loss: 29.6628 - mae: 4.5081 - mse: 29.6628 - val_loss: 28.6383 - val_mae: 4.4534 - val_mse: 28.6383\n",
            "Epoch 56/100\n",
            "101/101 [==============================] - 1s 11ms/step - loss: 29.6368 - mae: 4.5129 - mse: 29.6368 - val_loss: 28.5201 - val_mae: 4.3782 - val_mse: 28.5201\n",
            "Epoch 57/100\n",
            "101/101 [==============================] - 1s 10ms/step - loss: 29.6532 - mae: 4.5042 - mse: 29.6532 - val_loss: 28.5167 - val_mae: 4.3748 - val_mse: 28.5167\n",
            "Epoch 58/100\n",
            "101/101 [==============================] - 1s 10ms/step - loss: 29.6153 - mae: 4.5113 - mse: 29.6153 - val_loss: 28.4938 - val_mae: 4.2907 - val_mse: 28.4938\n",
            "Epoch 59/100\n",
            "101/101 [==============================] - 1s 10ms/step - loss: 29.6423 - mae: 4.4953 - mse: 29.6423 - val_loss: 28.5233 - val_mae: 4.3814 - val_mse: 28.5233\n",
            "Epoch 60/100\n",
            "101/101 [==============================] - 1s 10ms/step - loss: 29.6360 - mae: 4.5026 - mse: 29.6360 - val_loss: 28.5506 - val_mae: 4.4036 - val_mse: 28.5506\n",
            "Epoch 61/100\n",
            "101/101 [==============================] - 1s 12ms/step - loss: 29.6145 - mae: 4.4993 - mse: 29.6145 - val_loss: 28.6874 - val_mae: 4.4755 - val_mse: 28.6874\n",
            "Epoch 62/100\n",
            "101/101 [==============================] - 2s 16ms/step - loss: 29.6255 - mae: 4.5123 - mse: 29.6255 - val_loss: 28.5403 - val_mae: 4.3960 - val_mse: 28.5403\n",
            "Epoch 63/100\n",
            "101/101 [==============================] - 2s 16ms/step - loss: 29.6222 - mae: 4.4991 - mse: 29.6222 - val_loss: 28.7867 - val_mae: 4.5133 - val_mse: 28.7867\n",
            "Epoch 64/100\n",
            "101/101 [==============================] - 2s 16ms/step - loss: 29.6258 - mae: 4.5122 - mse: 29.6258 - val_loss: 28.6519 - val_mae: 4.4598 - val_mse: 28.6519\n",
            "Epoch 65/100\n",
            "101/101 [==============================] - 1s 11ms/step - loss: 29.6349 - mae: 4.5103 - mse: 29.6349 - val_loss: 28.5253 - val_mae: 4.3833 - val_mse: 28.5253\n",
            "Epoch 66/100\n",
            "101/101 [==============================] - 1s 10ms/step - loss: 29.6420 - mae: 4.5077 - mse: 29.6420 - val_loss: 28.5285 - val_mae: 4.3861 - val_mse: 28.5285\n",
            "Epoch 67/100\n",
            "101/101 [==============================] - 1s 10ms/step - loss: 29.6144 - mae: 4.4993 - mse: 29.6144 - val_loss: 28.7162 - val_mae: 4.4873 - val_mse: 28.7162\n",
            "Epoch 68/100\n",
            "101/101 [==============================] - 1s 11ms/step - loss: 29.6119 - mae: 4.5015 - mse: 29.6119 - val_loss: 28.9281 - val_mae: 4.5574 - val_mse: 28.9281\n",
            "Epoch 69/100\n",
            "101/101 [==============================] - 1s 10ms/step - loss: 29.6351 - mae: 4.5167 - mse: 29.6351 - val_loss: 28.5534 - val_mae: 4.4056 - val_mse: 28.5534\n",
            "Epoch 70/100\n",
            "101/101 [==============================] - 1s 10ms/step - loss: 29.6407 - mae: 4.5067 - mse: 29.6407 - val_loss: 28.6430 - val_mae: 4.4557 - val_mse: 28.6430\n",
            "Epoch 71/100\n",
            "101/101 [==============================] - 1s 10ms/step - loss: 29.6051 - mae: 4.4966 - mse: 29.6051 - val_loss: 28.9197 - val_mae: 4.5550 - val_mse: 28.9197\n",
            "Epoch 72/100\n",
            "101/101 [==============================] - 1s 10ms/step - loss: 29.5975 - mae: 4.5075 - mse: 29.5975 - val_loss: 28.5943 - val_mae: 4.4307 - val_mse: 28.5943\n",
            "Epoch 73/100\n",
            "101/101 [==============================] - 1s 10ms/step - loss: 29.5839 - mae: 4.5145 - mse: 29.5839 - val_loss: 28.4923 - val_mae: 4.2941 - val_mse: 28.4923\n",
            "Epoch 74/100\n",
            "101/101 [==============================] - 1s 12ms/step - loss: 29.5883 - mae: 4.4878 - mse: 29.5883 - val_loss: 28.7505 - val_mae: 4.5003 - val_mse: 28.7505\n",
            "Epoch 75/100\n",
            "101/101 [==============================] - 2s 16ms/step - loss: 29.6236 - mae: 4.4949 - mse: 29.6236 - val_loss: 29.1388 - val_mae: 4.6135 - val_mse: 29.1388\n",
            "Epoch 76/100\n",
            "101/101 [==============================] - 2s 16ms/step - loss: 29.6708 - mae: 4.5219 - mse: 29.6708 - val_loss: 28.5879 - val_mae: 4.4272 - val_mse: 28.5879\n",
            "Epoch 77/100\n",
            "101/101 [==============================] - 2s 16ms/step - loss: 29.5837 - mae: 4.4851 - mse: 29.5837 - val_loss: 29.3074 - val_mae: 4.6536 - val_mse: 29.3074\n",
            "Epoch 78/100\n",
            "101/101 [==============================] - 1s 10ms/step - loss: 29.6447 - mae: 4.5089 - mse: 29.6447 - val_loss: 28.8448 - val_mae: 4.5325 - val_mse: 28.8448\n",
            "Epoch 79/100\n",
            "101/101 [==============================] - 1s 11ms/step - loss: 29.5762 - mae: 4.4994 - mse: 29.5762 - val_loss: 28.8023 - val_mae: 4.5186 - val_mse: 28.8023\n",
            "Epoch 80/100\n",
            "101/101 [==============================] - 1s 11ms/step - loss: 29.6125 - mae: 4.4952 - mse: 29.6125 - val_loss: 29.4222 - val_mae: 4.6789 - val_mse: 29.4222\n",
            "Epoch 81/100\n",
            "101/101 [==============================] - 1s 10ms/step - loss: 29.6244 - mae: 4.5140 - mse: 29.6244 - val_loss: 29.1957 - val_mae: 4.6275 - val_mse: 29.1957\n",
            "Epoch 82/100\n",
            "101/101 [==============================] - 1s 10ms/step - loss: 29.6539 - mae: 4.5280 - mse: 29.6539 - val_loss: 28.5116 - val_mae: 4.3692 - val_mse: 28.5116\n",
            "Epoch 83/100\n",
            "101/101 [==============================] - 1s 11ms/step - loss: 29.6607 - mae: 4.5033 - mse: 29.6607 - val_loss: 28.5373 - val_mae: 4.3936 - val_mse: 28.5373\n",
            "Epoch 84/100\n",
            "101/101 [==============================] - 1s 11ms/step - loss: 29.6378 - mae: 4.5035 - mse: 29.6378 - val_loss: 28.5931 - val_mae: 4.4301 - val_mse: 28.5931\n",
            "Epoch 85/100\n",
            "101/101 [==============================] - 1s 10ms/step - loss: 29.5817 - mae: 4.4952 - mse: 29.5817 - val_loss: 28.7603 - val_mae: 4.5039 - val_mse: 28.7603\n",
            "Epoch 86/100\n",
            "101/101 [==============================] - 1s 11ms/step - loss: 29.6301 - mae: 4.5001 - mse: 29.6301 - val_loss: 29.1519 - val_mae: 4.6167 - val_mse: 29.1519\n",
            "Epoch 87/100\n",
            "101/101 [==============================] - 1s 14ms/step - loss: 29.6347 - mae: 4.5163 - mse: 29.6347 - val_loss: 28.6921 - val_mae: 4.4774 - val_mse: 28.6921\n",
            "Epoch 88/100\n",
            "101/101 [==============================] - 2s 16ms/step - loss: 29.6233 - mae: 4.5111 - mse: 29.6233 - val_loss: 28.5074 - val_mae: 4.3642 - val_mse: 28.5074\n",
            "Epoch 89/100\n",
            "101/101 [==============================] - 2s 16ms/step - loss: 29.6493 - mae: 4.4886 - mse: 29.6493 - val_loss: 28.9980 - val_mae: 4.5771 - val_mse: 28.9980\n",
            "Epoch 90/100\n",
            "101/101 [==============================] - 1s 14ms/step - loss: 29.5929 - mae: 4.5017 - mse: 29.5929 - val_loss: 28.9808 - val_mae: 4.5724 - val_mse: 28.9808\n",
            "Epoch 91/100\n",
            "101/101 [==============================] - 1s 10ms/step - loss: 29.6402 - mae: 4.5115 - mse: 29.6402 - val_loss: 28.8706 - val_mae: 4.5405 - val_mse: 28.8706\n",
            "Epoch 92/100\n",
            "101/101 [==============================] - 1s 10ms/step - loss: 29.6512 - mae: 4.5045 - mse: 29.6512 - val_loss: 28.8578 - val_mae: 4.5365 - val_mse: 28.8578\n",
            "Epoch 93/100\n",
            "101/101 [==============================] - 1s 10ms/step - loss: 29.5752 - mae: 4.5131 - mse: 29.5752 - val_loss: 28.5409 - val_mae: 4.3964 - val_mse: 28.5409\n",
            "Epoch 94/100\n",
            "101/101 [==============================] - 1s 10ms/step - loss: 29.6024 - mae: 4.4948 - mse: 29.6024 - val_loss: 28.7062 - val_mae: 4.4832 - val_mse: 28.7062\n",
            "Epoch 95/100\n",
            "101/101 [==============================] - 1s 10ms/step - loss: 29.6323 - mae: 4.5030 - mse: 29.6323 - val_loss: 28.7090 - val_mae: 4.4844 - val_mse: 28.7090\n",
            "Epoch 96/100\n",
            "101/101 [==============================] - 1s 10ms/step - loss: 29.6485 - mae: 4.5119 - mse: 29.6485 - val_loss: 28.6490 - val_mae: 4.4585 - val_mse: 28.6490\n",
            "Epoch 97/100\n",
            "101/101 [==============================] - 1s 10ms/step - loss: 29.6627 - mae: 4.5095 - mse: 29.6627 - val_loss: 28.7261 - val_mae: 4.4911 - val_mse: 28.7261\n",
            "Epoch 98/100\n",
            "101/101 [==============================] - 1s 10ms/step - loss: 29.6399 - mae: 4.5089 - mse: 29.6399 - val_loss: 28.7254 - val_mae: 4.4909 - val_mse: 28.7254\n",
            "Epoch 99/100\n",
            "101/101 [==============================] - 1s 10ms/step - loss: 29.6528 - mae: 4.5105 - mse: 29.6528 - val_loss: 28.5461 - val_mae: 4.4004 - val_mse: 28.5461\n",
            "Epoch 100/100\n",
            "101/101 [==============================] - 2s 15ms/step - loss: 29.6049 - mae: 4.4928 - mse: 29.6049 - val_loss: 28.9254 - val_mae: 4.5567 - val_mse: 28.9254\n"
          ]
        },
        {
          "output_type": "execute_result",
          "data": {
            "text/plain": [
              "<keras.src.callbacks.History at 0x7c5a41f64b50>"
            ]
          },
          "metadata": {},
          "execution_count": 98
        }
      ]
    },
    {
      "cell_type": "code",
      "source": [
        "def build_model(hp):\n",
        "    model = Sequential()\n",
        "    counter = 0\n",
        "\n",
        "    for i in range(hp.Int('num_layers',min_value=1,max_value=3)):\n",
        "        if counter == 0:\n",
        "          model.add(LSTM(hp.Int('units'+str(i),min_value=5,max_value=128,step=5),\n",
        "                         activation=hp.Choice('activation'+str(i),values=['relu','tanh']),\n",
        "                         return_sequences=True,\n",
        "                         input_shape=(X_train.shape[1], 1)))\n",
        "        else:\n",
        "          model.add(LSTM(hp.Int('units'+str(i),min_value=5,max_value=128,step=5),\n",
        "                         activation=hp.Choice('activation'+str(i),values=['relu','tanh']),\n",
        "                         return_sequences=True))\n",
        "        counter+=1\n",
        "\n",
        "    model.add(Dense(1, activation='linear'))\n",
        "\n",
        "    optimizer = hp.Choice('optimizer', values = [\"sgd\",\"rmsprop\",\"adam\",\"adadelta\",\"adagrad\",\"adamax\"])\n",
        "\n",
        "        # Set the learning rate based on the optimizer choice\n",
        "    learning_rate = hp.Float('learning_rate', min_value=1e-4, max_value=1e-2, sampling='log', default=1e-3)\n",
        "    if optimizer == 'adam':\n",
        "        optimizer = Adam(learning_rate=learning_rate)\n",
        "    elif optimizer == 'sgd':\n",
        "        optimizer = SGD(learning_rate=learning_rate)\n",
        "    elif optimizer == 'adadelta':\n",
        "        optimizer = Adadelta(learning_rate=learning_rate)\n",
        "    elif optimizer == 'adagrad':\n",
        "        optimizer = Adagrad(learning_rate=learning_rate)\n",
        "    elif optimizer == 'adamax':\n",
        "        optimizer = Adamax(learning_rate=learning_rate)\n",
        "    else:\n",
        "        optimizer = RMSprop(learning_rate=learning_rate)\n",
        "\n",
        "    model.compile(optimizer=optimizer, loss='mean_squared_error', metrics=['mae', 'mse',])\n",
        "\n",
        "    return model\n",
        "\n",
        "\n",
        "\n",
        "\n",
        "\n"
      ],
      "metadata": {
        "id": "dxMqFbwEw25h"
      },
      "execution_count": 103,
      "outputs": []
    },
    {
      "cell_type": "code",
      "source": [
        "tuner  = kt.RandomSearch(build_model,\n",
        "                         objective='val_mae',\n",
        "                         max_trials=100,\n",
        "                         directory=\"final_dir\",\n",
        "                         project_name = \"snow_melt_research_work\")\n",
        "\n",
        "tuner.search(X_train,y_train,epochs=5,validation_data=(X_val,y_val))"
      ],
      "metadata": {
        "id": "PuIrZb9s5FwW",
        "outputId": "4db01b27-080c-4572-c274-3b3361a15d75",
        "colab": {
          "base_uri": "https://localhost:8080/"
        }
      },
      "execution_count": 104,
      "outputs": [
        {
          "output_type": "stream",
          "name": "stdout",
          "text": [
            "Trial 100 Complete [00h 00m 12s]\n",
            "val_mae: 4.722436904907227\n",
            "\n",
            "Best val_mae So Far: 3.7524070739746094\n",
            "Total elapsed time: 00h 19m 41s\n"
          ]
        }
      ]
    },
    {
      "cell_type": "code",
      "source": [
        "tuner.get_best_hyperparameters()[0].values"
      ],
      "metadata": {
        "id": "5UTanSXy-2yO",
        "outputId": "f2ce3a0b-0f23-49da-894f-52c9c04ea935",
        "colab": {
          "base_uri": "https://localhost:8080/"
        }
      },
      "execution_count": 105,
      "outputs": [
        {
          "output_type": "execute_result",
          "data": {
            "text/plain": [
              "{'num_layers': 1,\n",
              " 'units0': 120,\n",
              " 'activation0': 'relu',\n",
              " 'optimizer': 'sgd',\n",
              " 'learning_rate': 0.003264321794832516,\n",
              " 'units1': 20,\n",
              " 'activation1': 'tanh',\n",
              " 'units2': 105,\n",
              " 'activation2': 'relu'}"
            ]
          },
          "metadata": {},
          "execution_count": 105
        }
      ]
    },
    {
      "cell_type": "code",
      "source": [
        "model = tuner.get_best_models(num_models=1)[0]\n",
        "print(model.summary())"
      ],
      "metadata": {
        "id": "Z7r3sVaf-7v6",
        "outputId": "33ed4293-e8b9-4ccb-80a5-bebfb8678448",
        "colab": {
          "base_uri": "https://localhost:8080/"
        }
      },
      "execution_count": 106,
      "outputs": [
        {
          "output_type": "stream",
          "name": "stdout",
          "text": [
            "Model: \"sequential\"\n",
            "_________________________________________________________________\n",
            " Layer (type)                Output Shape              Param #   \n",
            "=================================================================\n",
            " lstm (LSTM)                 (None, 2, 120)            58560     \n",
            "                                                                 \n",
            " dense (Dense)               (None, 2, 1)              121       \n",
            "                                                                 \n",
            "=================================================================\n",
            "Total params: 58681 (229.22 KB)\n",
            "Trainable params: 58681 (229.22 KB)\n",
            "Non-trainable params: 0 (0.00 Byte)\n",
            "_________________________________________________________________\n",
            "None\n"
          ]
        }
      ]
    },
    {
      "cell_type": "code",
      "source": [
        "model.fit(X_train,y_train,batch_size=32,epochs=100,validation_data=(X_val,y_val))"
      ],
      "metadata": {
        "id": "bnx3xyS2-_GT",
        "outputId": "d60c0571-95d3-4fd0-fbf9-43517cee9e61",
        "colab": {
          "base_uri": "https://localhost:8080/"
        }
      },
      "execution_count": 107,
      "outputs": [
        {
          "output_type": "stream",
          "name": "stdout",
          "text": [
            "Epoch 1/100\n",
            "101/101 [==============================] - 2s 9ms/step - loss: 33.5763 - mae: 4.0321 - mse: 33.5763 - val_loss: 29.0072 - val_mae: 4.1201 - val_mse: 29.0072\n",
            "Epoch 2/100\n",
            "101/101 [==============================] - 1s 6ms/step - loss: 30.1315 - mae: 4.3291 - mse: 30.1315 - val_loss: 28.6819 - val_mae: 4.3465 - val_mse: 28.6819\n",
            "Epoch 3/100\n",
            "101/101 [==============================] - 1s 6ms/step - loss: 29.8202 - mae: 4.4449 - mse: 29.8202 - val_loss: 28.7462 - val_mae: 4.4104 - val_mse: 28.7462\n",
            "Epoch 4/100\n",
            "101/101 [==============================] - 1s 6ms/step - loss: 29.7707 - mae: 4.4738 - mse: 29.7707 - val_loss: 28.7628 - val_mae: 4.4276 - val_mse: 28.7628\n",
            "Epoch 5/100\n",
            "101/101 [==============================] - 1s 6ms/step - loss: 29.7543 - mae: 4.4884 - mse: 29.7543 - val_loss: 28.7382 - val_mae: 4.4223 - val_mse: 28.7382\n",
            "Epoch 6/100\n",
            "101/101 [==============================] - 1s 6ms/step - loss: 29.7421 - mae: 4.4753 - mse: 29.7421 - val_loss: 28.7831 - val_mae: 4.4496 - val_mse: 28.7831\n",
            "Epoch 7/100\n",
            "101/101 [==============================] - 1s 6ms/step - loss: 29.7298 - mae: 4.5010 - mse: 29.7298 - val_loss: 28.7206 - val_mae: 4.4252 - val_mse: 28.7206\n",
            "Epoch 8/100\n",
            "101/101 [==============================] - 1s 6ms/step - loss: 29.7149 - mae: 4.4911 - mse: 29.7149 - val_loss: 28.7050 - val_mae: 4.4220 - val_mse: 28.7050\n",
            "Epoch 9/100\n",
            "101/101 [==============================] - 1s 8ms/step - loss: 29.7029 - mae: 4.4815 - mse: 29.7029 - val_loss: 28.7200 - val_mae: 4.4339 - val_mse: 28.7200\n",
            "Epoch 10/100\n",
            "101/101 [==============================] - 1s 10ms/step - loss: 29.6942 - mae: 4.4764 - mse: 29.6942 - val_loss: 28.7644 - val_mae: 4.4575 - val_mse: 28.7644\n",
            "Epoch 11/100\n",
            "101/101 [==============================] - 1s 9ms/step - loss: 29.6836 - mae: 4.4910 - mse: 29.6836 - val_loss: 28.7472 - val_mae: 4.4532 - val_mse: 28.7472\n",
            "Epoch 12/100\n",
            "101/101 [==============================] - 1s 9ms/step - loss: 29.6774 - mae: 4.4973 - mse: 29.6774 - val_loss: 28.7133 - val_mae: 4.4408 - val_mse: 28.7133\n",
            "Epoch 13/100\n",
            "101/101 [==============================] - 1s 9ms/step - loss: 29.6753 - mae: 4.4879 - mse: 29.6753 - val_loss: 28.7243 - val_mae: 4.4486 - val_mse: 28.7243\n",
            "Epoch 14/100\n",
            "101/101 [==============================] - 1s 9ms/step - loss: 29.6626 - mae: 4.4799 - mse: 29.6626 - val_loss: 28.7650 - val_mae: 4.4682 - val_mse: 28.7650\n",
            "Epoch 15/100\n",
            "101/101 [==============================] - 1s 7ms/step - loss: 29.6593 - mae: 4.5121 - mse: 29.6593 - val_loss: 28.6804 - val_mae: 4.4329 - val_mse: 28.6804\n",
            "Epoch 16/100\n",
            "101/101 [==============================] - 1s 7ms/step - loss: 29.6557 - mae: 4.4821 - mse: 29.6557 - val_loss: 28.7170 - val_mae: 4.4522 - val_mse: 28.7170\n",
            "Epoch 17/100\n",
            "101/101 [==============================] - 1s 6ms/step - loss: 29.6496 - mae: 4.5015 - mse: 29.6496 - val_loss: 28.6944 - val_mae: 4.4439 - val_mse: 28.6944\n",
            "Epoch 18/100\n",
            "101/101 [==============================] - 1s 6ms/step - loss: 29.6411 - mae: 4.4917 - mse: 29.6411 - val_loss: 28.7026 - val_mae: 4.4495 - val_mse: 28.7026\n",
            "Epoch 19/100\n",
            "101/101 [==============================] - 1s 6ms/step - loss: 29.6396 - mae: 4.4968 - mse: 29.6396 - val_loss: 28.6965 - val_mae: 4.4484 - val_mse: 28.6965\n",
            "Epoch 20/100\n",
            "101/101 [==============================] - 1s 6ms/step - loss: 29.6378 - mae: 4.4958 - mse: 29.6378 - val_loss: 28.6831 - val_mae: 4.4438 - val_mse: 28.6831\n",
            "Epoch 21/100\n",
            "101/101 [==============================] - 1s 6ms/step - loss: 29.6272 - mae: 4.4940 - mse: 29.6272 - val_loss: 28.6853 - val_mae: 4.4463 - val_mse: 28.6853\n",
            "Epoch 22/100\n",
            "101/101 [==============================] - 1s 6ms/step - loss: 29.6273 - mae: 4.4892 - mse: 29.6273 - val_loss: 28.6943 - val_mae: 4.4518 - val_mse: 28.6943\n",
            "Epoch 23/100\n",
            "101/101 [==============================] - 1s 6ms/step - loss: 29.6248 - mae: 4.5037 - mse: 29.6248 - val_loss: 28.6587 - val_mae: 4.4363 - val_mse: 28.6587\n",
            "Epoch 24/100\n",
            "101/101 [==============================] - 1s 6ms/step - loss: 29.6237 - mae: 4.4838 - mse: 29.6237 - val_loss: 28.6759 - val_mae: 4.4459 - val_mse: 28.6759\n",
            "Epoch 25/100\n",
            "101/101 [==============================] - 1s 6ms/step - loss: 29.6187 - mae: 4.4993 - mse: 29.6187 - val_loss: 28.6597 - val_mae: 4.4393 - val_mse: 28.6597\n",
            "Epoch 26/100\n",
            "101/101 [==============================] - 1s 5ms/step - loss: 29.6149 - mae: 4.4969 - mse: 29.6149 - val_loss: 28.6495 - val_mae: 4.4353 - val_mse: 28.6495\n",
            "Epoch 27/100\n",
            "101/101 [==============================] - 1s 6ms/step - loss: 29.6128 - mae: 4.4869 - mse: 29.6128 - val_loss: 28.6715 - val_mae: 4.4472 - val_mse: 28.6715\n",
            "Epoch 28/100\n",
            "101/101 [==============================] - 1s 6ms/step - loss: 29.6075 - mae: 4.4894 - mse: 29.6075 - val_loss: 28.6925 - val_mae: 4.4576 - val_mse: 28.6925\n",
            "Epoch 29/100\n",
            "101/101 [==============================] - 1s 6ms/step - loss: 29.6065 - mae: 4.4955 - mse: 29.6065 - val_loss: 28.6945 - val_mae: 4.4594 - val_mse: 28.6945\n",
            "Epoch 30/100\n",
            "101/101 [==============================] - 1s 7ms/step - loss: 29.6098 - mae: 4.5004 - mse: 29.6098 - val_loss: 28.6824 - val_mae: 4.4549 - val_mse: 28.6824\n",
            "Epoch 31/100\n",
            "101/101 [==============================] - 1s 10ms/step - loss: 29.6030 - mae: 4.5088 - mse: 29.6030 - val_loss: 28.6363 - val_mae: 4.4335 - val_mse: 28.6363\n",
            "Epoch 32/100\n",
            "101/101 [==============================] - 1s 10ms/step - loss: 29.6015 - mae: 4.4874 - mse: 29.6015 - val_loss: 28.6551 - val_mae: 4.4437 - val_mse: 28.6551\n",
            "Epoch 33/100\n",
            "101/101 [==============================] - 1s 9ms/step - loss: 29.6025 - mae: 4.4968 - mse: 29.6025 - val_loss: 28.6697 - val_mae: 4.4514 - val_mse: 28.6697\n",
            "Epoch 34/100\n",
            "101/101 [==============================] - 1s 10ms/step - loss: 29.5955 - mae: 4.5068 - mse: 29.5955 - val_loss: 28.6467 - val_mae: 4.4411 - val_mse: 28.6467\n",
            "Epoch 35/100\n",
            "101/101 [==============================] - 1s 10ms/step - loss: 29.5980 - mae: 4.4957 - mse: 29.5980 - val_loss: 28.6536 - val_mae: 4.4452 - val_mse: 28.6536\n",
            "Epoch 36/100\n",
            "101/101 [==============================] - 1s 6ms/step - loss: 29.5965 - mae: 4.4980 - mse: 29.5965 - val_loss: 28.6692 - val_mae: 4.4532 - val_mse: 28.6692\n",
            "Epoch 37/100\n",
            "101/101 [==============================] - 1s 6ms/step - loss: 29.5954 - mae: 4.5023 - mse: 29.5954 - val_loss: 28.6575 - val_mae: 4.4483 - val_mse: 28.6575\n",
            "Epoch 38/100\n",
            "101/101 [==============================] - 1s 6ms/step - loss: 29.5905 - mae: 4.4977 - mse: 29.5905 - val_loss: 28.6686 - val_mae: 4.4540 - val_mse: 28.6686\n",
            "Epoch 39/100\n",
            "101/101 [==============================] - 1s 6ms/step - loss: 29.5904 - mae: 4.4979 - mse: 29.5904 - val_loss: 28.6628 - val_mae: 4.4519 - val_mse: 28.6628\n",
            "Epoch 40/100\n",
            "101/101 [==============================] - 1s 6ms/step - loss: 29.5856 - mae: 4.5105 - mse: 29.5856 - val_loss: 28.6365 - val_mae: 4.4397 - val_mse: 28.6365\n",
            "Epoch 41/100\n",
            "101/101 [==============================] - 1s 6ms/step - loss: 29.5888 - mae: 4.4978 - mse: 29.5888 - val_loss: 28.6327 - val_mae: 4.4383 - val_mse: 28.6327\n",
            "Epoch 42/100\n",
            "101/101 [==============================] - 1s 6ms/step - loss: 29.5855 - mae: 4.4858 - mse: 29.5855 - val_loss: 28.6635 - val_mae: 4.4537 - val_mse: 28.6635\n",
            "Epoch 43/100\n",
            "101/101 [==============================] - 1s 6ms/step - loss: 29.5857 - mae: 4.4979 - mse: 29.5857 - val_loss: 28.6665 - val_mae: 4.4555 - val_mse: 28.6665\n",
            "Epoch 44/100\n",
            "101/101 [==============================] - 1s 6ms/step - loss: 29.5816 - mae: 4.4905 - mse: 29.5816 - val_loss: 28.6982 - val_mae: 4.4697 - val_mse: 28.6982\n",
            "Epoch 45/100\n",
            "101/101 [==============================] - 1s 6ms/step - loss: 29.5823 - mae: 4.5173 - mse: 29.5823 - val_loss: 28.6407 - val_mae: 4.4442 - val_mse: 28.6407\n",
            "Epoch 46/100\n",
            "101/101 [==============================] - 1s 6ms/step - loss: 29.5820 - mae: 4.4904 - mse: 29.5820 - val_loss: 28.6566 - val_mae: 4.4522 - val_mse: 28.6566\n",
            "Epoch 47/100\n",
            "101/101 [==============================] - 1s 7ms/step - loss: 29.5802 - mae: 4.5022 - mse: 29.5802 - val_loss: 28.6426 - val_mae: 4.4459 - val_mse: 28.6426\n",
            "Epoch 48/100\n",
            "101/101 [==============================] - 1s 6ms/step - loss: 29.5798 - mae: 4.5040 - mse: 29.5798 - val_loss: 28.6272 - val_mae: 4.4386 - val_mse: 28.6272\n",
            "Epoch 49/100\n",
            "101/101 [==============================] - 1s 6ms/step - loss: 29.5812 - mae: 4.4957 - mse: 29.5812 - val_loss: 28.6465 - val_mae: 4.4486 - val_mse: 28.6465\n",
            "Epoch 50/100\n",
            "101/101 [==============================] - 1s 6ms/step - loss: 29.5788 - mae: 4.4957 - mse: 29.5788 - val_loss: 28.6452 - val_mae: 4.4483 - val_mse: 28.6452\n",
            "Epoch 51/100\n",
            "101/101 [==============================] - 1s 7ms/step - loss: 29.5740 - mae: 4.5094 - mse: 29.5740 - val_loss: 28.6219 - val_mae: 4.4369 - val_mse: 28.6219\n",
            "Epoch 52/100\n",
            "101/101 [==============================] - 1s 10ms/step - loss: 29.5790 - mae: 4.4922 - mse: 29.5790 - val_loss: 28.6307 - val_mae: 4.4418 - val_mse: 28.6307\n",
            "Epoch 53/100\n",
            "101/101 [==============================] - 1s 9ms/step - loss: 29.5751 - mae: 4.4976 - mse: 29.5751 - val_loss: 28.6265 - val_mae: 4.4400 - val_mse: 28.6265\n",
            "Epoch 54/100\n",
            "101/101 [==============================] - 1s 10ms/step - loss: 29.5751 - mae: 4.4847 - mse: 29.5751 - val_loss: 28.6713 - val_mae: 4.4614 - val_mse: 28.6713\n",
            "Epoch 55/100\n",
            "101/101 [==============================] - 1s 10ms/step - loss: 29.5752 - mae: 4.5078 - mse: 29.5752 - val_loss: 28.6539 - val_mae: 4.4539 - val_mse: 28.6539\n",
            "Epoch 56/100\n",
            "101/101 [==============================] - 1s 9ms/step - loss: 29.5740 - mae: 4.5011 - mse: 29.5740 - val_loss: 28.6557 - val_mae: 4.4549 - val_mse: 28.6557\n",
            "Epoch 57/100\n",
            "101/101 [==============================] - 1s 6ms/step - loss: 29.5740 - mae: 4.5059 - mse: 29.5740 - val_loss: 28.6504 - val_mae: 4.4527 - val_mse: 28.6504\n",
            "Epoch 58/100\n",
            "101/101 [==============================] - 1s 6ms/step - loss: 29.5719 - mae: 4.5056 - mse: 29.5719 - val_loss: 28.6370 - val_mae: 4.4466 - val_mse: 28.6370\n",
            "Epoch 59/100\n",
            "101/101 [==============================] - 1s 6ms/step - loss: 29.5711 - mae: 4.4885 - mse: 29.5711 - val_loss: 28.6708 - val_mae: 4.4624 - val_mse: 28.6708\n",
            "Epoch 60/100\n",
            "101/101 [==============================] - 1s 7ms/step - loss: 29.5732 - mae: 4.5093 - mse: 29.5732 - val_loss: 28.6271 - val_mae: 4.4421 - val_mse: 28.6271\n",
            "Epoch 61/100\n",
            "101/101 [==============================] - 1s 6ms/step - loss: 29.5705 - mae: 4.5022 - mse: 29.5705 - val_loss: 28.6157 - val_mae: 4.4365 - val_mse: 28.6157\n",
            "Epoch 62/100\n",
            "101/101 [==============================] - 1s 6ms/step - loss: 29.5701 - mae: 4.4894 - mse: 29.5701 - val_loss: 28.6430 - val_mae: 4.4504 - val_mse: 28.6430\n",
            "Epoch 63/100\n",
            "101/101 [==============================] - 1s 6ms/step - loss: 29.5707 - mae: 4.5008 - mse: 29.5707 - val_loss: 28.6260 - val_mae: 4.4423 - val_mse: 28.6260\n",
            "Epoch 64/100\n",
            "101/101 [==============================] - 1s 6ms/step - loss: 29.5691 - mae: 4.4915 - mse: 29.5691 - val_loss: 28.6485 - val_mae: 4.4534 - val_mse: 28.6485\n",
            "Epoch 65/100\n",
            "101/101 [==============================] - 1s 6ms/step - loss: 29.5677 - mae: 4.4965 - mse: 29.5677 - val_loss: 28.6538 - val_mae: 4.4560 - val_mse: 28.6538\n",
            "Epoch 66/100\n",
            "101/101 [==============================] - 1s 6ms/step - loss: 29.5700 - mae: 4.5018 - mse: 29.5700 - val_loss: 28.6498 - val_mae: 4.4543 - val_mse: 28.6498\n",
            "Epoch 67/100\n",
            "101/101 [==============================] - 1s 6ms/step - loss: 29.5686 - mae: 4.4956 - mse: 29.5686 - val_loss: 28.6627 - val_mae: 4.4604 - val_mse: 28.6627\n",
            "Epoch 68/100\n",
            "101/101 [==============================] - 1s 6ms/step - loss: 29.5688 - mae: 4.5032 - mse: 29.5688 - val_loss: 28.6553 - val_mae: 4.4572 - val_mse: 28.6553\n",
            "Epoch 69/100\n",
            "101/101 [==============================] - 1s 6ms/step - loss: 29.5615 - mae: 4.4872 - mse: 29.5615 - val_loss: 28.6776 - val_mae: 4.4672 - val_mse: 28.6776\n",
            "Epoch 70/100\n",
            "101/101 [==============================] - 1s 6ms/step - loss: 29.5678 - mae: 4.5102 - mse: 29.5678 - val_loss: 28.6537 - val_mae: 4.4568 - val_mse: 28.6537\n",
            "Epoch 71/100\n",
            "101/101 [==============================] - 1s 6ms/step - loss: 29.5664 - mae: 4.4990 - mse: 29.5664 - val_loss: 28.6633 - val_mae: 4.4613 - val_mse: 28.6633\n",
            "Epoch 72/100\n",
            "101/101 [==============================] - 1s 6ms/step - loss: 29.5658 - mae: 4.4976 - mse: 29.5658 - val_loss: 28.6548 - val_mae: 4.4576 - val_mse: 28.6548\n",
            "Epoch 73/100\n",
            "101/101 [==============================] - 1s 8ms/step - loss: 29.5671 - mae: 4.5027 - mse: 29.5671 - val_loss: 28.6372 - val_mae: 4.4495 - val_mse: 28.6372\n",
            "Epoch 74/100\n",
            "101/101 [==============================] - 1s 9ms/step - loss: 29.5662 - mae: 4.5005 - mse: 29.5662 - val_loss: 28.6331 - val_mae: 4.4477 - val_mse: 28.6331\n",
            "Epoch 75/100\n",
            "101/101 [==============================] - 1s 9ms/step - loss: 29.5640 - mae: 4.4972 - mse: 29.5640 - val_loss: 28.6455 - val_mae: 4.4537 - val_mse: 28.6455\n",
            "Epoch 76/100\n",
            "101/101 [==============================] - 1s 10ms/step - loss: 29.5652 - mae: 4.5071 - mse: 29.5652 - val_loss: 28.6281 - val_mae: 4.4455 - val_mse: 28.6281\n",
            "Epoch 77/100\n",
            "101/101 [==============================] - 1s 10ms/step - loss: 29.5634 - mae: 4.4947 - mse: 29.5634 - val_loss: 28.6336 - val_mae: 4.4483 - val_mse: 28.6336\n",
            "Epoch 78/100\n",
            "101/101 [==============================] - 1s 9ms/step - loss: 29.5599 - mae: 4.5122 - mse: 29.5599 - val_loss: 28.6007 - val_mae: 4.4315 - val_mse: 28.6007\n",
            "Epoch 79/100\n",
            "101/101 [==============================] - 1s 6ms/step - loss: 29.5663 - mae: 4.4915 - mse: 29.5663 - val_loss: 28.6116 - val_mae: 4.4375 - val_mse: 28.6116\n",
            "Epoch 80/100\n",
            "101/101 [==============================] - 1s 7ms/step - loss: 29.5632 - mae: 4.4864 - mse: 29.5632 - val_loss: 28.6387 - val_mae: 4.4511 - val_mse: 28.6387\n",
            "Epoch 81/100\n",
            "101/101 [==============================] - 1s 6ms/step - loss: 29.5637 - mae: 4.4991 - mse: 29.5637 - val_loss: 28.6548 - val_mae: 4.4587 - val_mse: 28.6548\n",
            "Epoch 82/100\n",
            "101/101 [==============================] - 1s 6ms/step - loss: 29.5613 - mae: 4.5139 - mse: 29.5613 - val_loss: 28.6133 - val_mae: 4.4388 - val_mse: 28.6133\n",
            "Epoch 83/100\n",
            "101/101 [==============================] - 1s 6ms/step - loss: 29.5616 - mae: 4.5028 - mse: 29.5616 - val_loss: 28.6047 - val_mae: 4.4343 - val_mse: 28.6047\n",
            "Epoch 84/100\n",
            "101/101 [==============================] - 1s 6ms/step - loss: 29.5629 - mae: 4.4882 - mse: 29.5629 - val_loss: 28.6244 - val_mae: 4.4446 - val_mse: 28.6244\n",
            "Epoch 85/100\n",
            "101/101 [==============================] - 1s 6ms/step - loss: 29.5617 - mae: 4.5001 - mse: 29.5617 - val_loss: 28.6266 - val_mae: 4.4458 - val_mse: 28.6266\n",
            "Epoch 86/100\n",
            "101/101 [==============================] - 1s 6ms/step - loss: 29.5598 - mae: 4.4898 - mse: 29.5598 - val_loss: 28.6425 - val_mae: 4.4535 - val_mse: 28.6425\n",
            "Epoch 87/100\n",
            "101/101 [==============================] - 1s 6ms/step - loss: 29.5631 - mae: 4.5059 - mse: 29.5631 - val_loss: 28.6249 - val_mae: 4.4452 - val_mse: 28.6249\n",
            "Epoch 88/100\n",
            "101/101 [==============================] - 1s 6ms/step - loss: 29.5589 - mae: 4.4876 - mse: 29.5589 - val_loss: 28.6545 - val_mae: 4.4592 - val_mse: 28.6545\n",
            "Epoch 89/100\n",
            "101/101 [==============================] - 1s 6ms/step - loss: 29.5621 - mae: 4.5028 - mse: 29.5621 - val_loss: 28.6392 - val_mae: 4.4523 - val_mse: 28.6392\n",
            "Epoch 90/100\n",
            "101/101 [==============================] - 1s 6ms/step - loss: 29.5585 - mae: 4.5078 - mse: 29.5585 - val_loss: 28.6130 - val_mae: 4.4394 - val_mse: 28.6130\n",
            "Epoch 91/100\n",
            "101/101 [==============================] - 1s 6ms/step - loss: 29.5600 - mae: 4.5006 - mse: 29.5600 - val_loss: 28.6021 - val_mae: 4.4338 - val_mse: 28.6021\n",
            "Epoch 92/100\n",
            "101/101 [==============================] - 1s 6ms/step - loss: 29.5597 - mae: 4.4927 - mse: 29.5597 - val_loss: 28.6289 - val_mae: 4.4476 - val_mse: 28.6289\n",
            "Epoch 93/100\n",
            "101/101 [==============================] - 1s 6ms/step - loss: 29.5572 - mae: 4.5127 - mse: 29.5572 - val_loss: 28.5984 - val_mae: 4.4320 - val_mse: 28.5984\n",
            "Epoch 94/100\n",
            "101/101 [==============================] - 1s 7ms/step - loss: 29.5588 - mae: 4.4846 - mse: 29.5588 - val_loss: 28.6415 - val_mae: 4.4537 - val_mse: 28.6415\n",
            "Epoch 95/100\n",
            "101/101 [==============================] - 1s 9ms/step - loss: 29.5620 - mae: 4.5020 - mse: 29.5620 - val_loss: 28.6338 - val_mae: 4.4502 - val_mse: 28.6338\n",
            "Epoch 96/100\n",
            "101/101 [==============================] - 1s 9ms/step - loss: 29.5595 - mae: 4.5037 - mse: 29.5595 - val_loss: 28.6313 - val_mae: 4.4491 - val_mse: 28.6313\n",
            "Epoch 97/100\n",
            "101/101 [==============================] - 1s 9ms/step - loss: 29.5587 - mae: 4.5063 - mse: 29.5587 - val_loss: 28.6153 - val_mae: 4.4412 - val_mse: 28.6153\n",
            "Epoch 98/100\n",
            "101/101 [==============================] - 1s 10ms/step - loss: 29.5584 - mae: 4.4948 - mse: 29.5584 - val_loss: 28.6377 - val_mae: 4.4523 - val_mse: 28.6377\n",
            "Epoch 99/100\n",
            "101/101 [==============================] - 1s 10ms/step - loss: 29.5571 - mae: 4.5090 - mse: 29.5571 - val_loss: 28.6158 - val_mae: 4.4416 - val_mse: 28.6158\n",
            "Epoch 100/100\n",
            "101/101 [==============================] - 1s 7ms/step - loss: 29.5573 - mae: 4.5042 - mse: 29.5573 - val_loss: 28.6033 - val_mae: 4.4352 - val_mse: 28.6033\n"
          ]
        },
        {
          "output_type": "execute_result",
          "data": {
            "text/plain": [
              "<keras.src.callbacks.History at 0x7c5a42efb010>"
            ]
          },
          "metadata": {},
          "execution_count": 107
        }
      ]
    },
    {
      "cell_type": "markdown",
      "source": [
        "# Model Performance Testing"
      ],
      "metadata": {
        "id": "UVofLPvpafJj"
      }
    },
    {
      "cell_type": "code",
      "source": [
        "# Get the model's predictions on the test data\n",
        "y_train_pred = model.predict(X_train)\n",
        "\n",
        "# Calculate MAE\n",
        "mae = mean_absolute_error(y_train, y_train_pred)\n",
        "\n",
        "\n",
        "# Calculate RMSE\n",
        "rmse = np.sqrt(mean_squared_error(y_train, y_train_pred))\n",
        "\n",
        "# Calculate R2\n",
        "r2 = r2_score(y_train, y_train_pred)\n",
        "\n",
        "print(\"MAE:\", mae)\n",
        "print(\"RMSE:\", rmse)\n",
        "print(\"R-squared (R2):\", r2)\n",
        "\n",
        "# Plot the actual vs. predicted values from the test set\n",
        "plt.figure(figsize=(10, 6))\n",
        "plt.plot(y_train, label='Actual')\n",
        "plt.plot(y_train_pred, label='Predicted')\n",
        "plt.xlabel('Time Steps')\n",
        "plt.ylabel('Value')\n",
        "plt.title('Actual vs. Predicted Values (Test Data)')\n",
        "plt.legend()\n",
        "plt.show()\n"
      ],
      "metadata": {
        "id": "79XPOuD9M9wI"
      },
      "execution_count": 110,
      "outputs": []
    },
    {
      "cell_type": "markdown",
      "source": [
        "## Validation dataset"
      ],
      "metadata": {
        "id": "IN_atl06FIEM"
      }
    },
    {
      "cell_type": "code",
      "source": [
        "\n",
        "\n",
        "y_val_pred = model.predict(X_val)\n",
        "# Calculate MAE\n",
        "mae = mean_absolute_error(y_val, y_val_pred)\n",
        "\n",
        "# Calculate RMSE\n",
        "rmse = np.sqrt(mean_squared_error(y_val, y_val_pred))\n",
        "\n",
        "# Calculate R2\n",
        "r2 = r2_score(y_val, y_val_pred)\n",
        "\n",
        "\n",
        "print(\"MAE:\", mae)\n",
        "print(\"RMSE:\", rmse)\n",
        "print(\"R-squared (R2):\", r2)\n",
        "# Plot the actual vs. predicted values from the validation set\n",
        "plt.figure(figsize=(10, 6))\n",
        "plt.plot(y_val, label='Actual')\n",
        "plt.plot(y_val_pred, label='Predicted')\n",
        "plt.xlabel('Time Steps')\n",
        "plt.ylabel('Value')\n",
        "plt.title('Actual vs. Predicted Values (Validation Data)')\n",
        "plt.legend()\n",
        "plt.show()"
      ],
      "metadata": {
        "id": "cfNMQGQ4MhYP"
      },
      "execution_count": 111,
      "outputs": []
    },
    {
      "cell_type": "markdown",
      "source": [
        "## Testing Dataset"
      ],
      "metadata": {
        "id": "788Xx8mmFN56"
      }
    },
    {
      "cell_type": "code",
      "source": [
        "# Get the model's predictions on the test data\n",
        "y_test_pred = model.predict(X_test)\n",
        "\n",
        "# Calculate MAE\n",
        "mae = mean_absolute_error(y_test, y_test_pred)\n",
        "\n",
        "\n",
        "# Calculate RMSE\n",
        "rmse = np.sqrt(mean_squared_error(y_test, y_test_pred))\n",
        "\n",
        "# Calculate R2\n",
        "r2 = r2_score(y_test, y_test_pred)\n",
        "\n",
        "print(\"MAE:\", mae)\n",
        "print(\"RMSE:\", rmse)\n",
        "print(\"R-squared (R2):\", r2)\n",
        "\n",
        "# Plot the actual vs. predicted values from the test set\n",
        "plt.figure(figsize=(10, 6))\n",
        "plt.plot(y_test, label='Actual')\n",
        "plt.plot(y_test_pred, label='Predicted')\n",
        "plt.xlabel('Time Steps')\n",
        "plt.ylabel('Value')\n",
        "plt.title('Actual vs. Predicted Values (Test Data)')\n",
        "plt.legend()\n",
        "plt.show()\n"
      ],
      "metadata": {
        "colab": {
          "base_uri": "https://localhost:8080/",
          "height": 638
        },
        "id": "AdNdtswbNZE-",
        "outputId": "01ef7f7b-bd32-4406-d1ab-d95438ca487a"
      },
      "execution_count": 92,
      "outputs": [
        {
          "output_type": "stream",
          "name": "stdout",
          "text": [
            "13/13 [==============================] - 0s 2ms/step\n",
            "MAE: 1.5996028296769558\n",
            "RMSE: 2.4130905897241344\n",
            "R-squared (R2): 0.8042902055790271\n"
          ]
        },
        {
          "output_type": "display_data",
          "data": {
            "text/plain": [
              "<Figure size 1000x600 with 1 Axes>"
            ],
            "image/png": "[encoded data removed]"
          },
          "metadata": {}
        }
      ]
    },
    {
      "cell_type": "code",
      "source": [],
      "metadata": {
        "id": "UVYc9bt87dTT"
      },
      "execution_count": null,
      "outputs": []
    }
  ]
}